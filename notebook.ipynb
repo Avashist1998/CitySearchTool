{
 "metadata": {
  "language_info": {
   "codemirror_mode": {
    "name": "ipython",
    "version": 3
   },
   "file_extension": ".py",
   "mimetype": "text/x-python",
   "name": "python",
   "nbconvert_exporter": "python",
   "pygments_lexer": "ipython3",
   "version": "3.8.5-final"
  },
  "orig_nbformat": 2,
  "kernelspec": {
   "name": "Python 3.8.5 64-bit ('env')",
   "display_name": "Python 3.8.5 64-bit ('env')",
   "metadata": {
    "interpreter": {
     "hash": "fea42c37dbe6ba0665458ed7e2e875da28de3f92681278c30161c85f738cbbf3"
    }
   }
  }
 },
 "nbformat": 4,
 "nbformat_minor": 2,
 "cells": [
  {
   "source": [
    "# City Search Tool\n",
    "\n",
    "There are a lot of factors that go into making a big move, and for many people, the top priority is either their job or their family. But if you’re on your own and you have job flexibility to go basically wherever you want (i.e. you work remotely), then what? In that case, you have the luxury of finding a place that suits you—and not necessarily just your career.\n",
    "\n",
    "A myriad of decisions go into picking the perfect place to call home — political leanings, crime rates, walkability, affordability, religious affiliations, weather and more — can you make a tool that allows aggie graduates and others to find thier next move?\n",
    "\n",
    "[High speed internet](https://www.highspeedinternet.com/best-cities-to-live-work-remotely) (of all people?!) made a tool to do this.... but you can do better! Think of more factors: like median income of a location, cuisine, primary ethnicity, pollution index, happiness index, number of coffee shops or microbreweries in the city, etc. There's no end! Furthermore, maybe you are an international student and want to make this tool for global placement! Go for it! Maybe you want to penalize distance from POI's (points of interest) like family. Do it! The world is your oyster!\n",
    "\n",
    "#### Starter Datasets\n",
    "- [MoveHub City Ratings](https://www.kaggle.com/blitzr/movehub-city-rankings?select=movehubqualityoflife.csv)\n",
    "  - [Notebooks for ideas on how to use data](https://www.kaggle.com/blitzr/movehub-city-rankings/notebooks)\n",
    "- [World City Populations](https://www.kaggle.com/max-mind/world-cities-database?select=worldcitiespop.csv)\n",
    "- [Rental Price](https://www.kaggle.com/zillow/rent-index)\n",
    "\n",
    "#### Where to Find More Data\n",
    "- [Google Datasets](https://datasetsearch.research.google.com/)\n",
    "- [US Census](https://data.census.gov/cedsci/?q=United%20States)\n",
    "- [Kaggle Datasets](https://www.kaggle.com/datasets)\n",
    "\n",
    "\n",
    "#### How We Judge\n",
    "- *Data Use*: Effectively used data, acquired additional data\n",
    "- *Analytics*: Effective application of analytics (bonus points for ML/clustering techniques)\n",
    "- *Visualization*: Solution is visually appealing and useful (Bonus points if you create an interactive tool/ application/ website)\n",
    "- *Impact*: Clear impact of solution to solving problem\n",
    "\n",
    "#### Helpful Workshops\n",
    "- Intro to Python: Sat, 10:30-12:00\n",
    "- Statistics for Data Scientists: Sat, 10:30-12:00\n",
    "- How to Win TAMU Datathon: Sat, 13:00-14:00\n",
    "- Data Wrangling: Sat, 17:00-18:15\n",
    "- Data Visualization: Sat, 18:30-19:45\n",
    "- Machine Learning Part 1 - Theory: Sat, 20:00-21:15\n",
    "- Machine Learning Part 2 - Applied: Sat, 21:30-22:45"
   ],
   "cell_type": "markdown",
   "metadata": {}
  },
  {
   "cell_type": "code",
   "execution_count": 4,
   "metadata": {},
   "outputs": [],
   "source": [
    "import pandas as pd\n",
    "df = pd.read_csv('https://drive.google.com/uc?id=1hSMhl-JeTCX-t72KjhasTQoL1LdWSRhw')"
   ]
  },
  {
   "cell_type": "code",
   "execution_count": 5,
   "metadata": {},
   "outputs": [
    {
     "output_type": "execute_result",
     "data": {
      "text/plain": [
       "           City  Movehub Rating  Purchase Power  Health Care  Pollution  \\\n",
       "0       Caracas           65.18           11.25        44.44      83.45   \n",
       "1  Johannesburg           84.08           53.99        59.98      47.39   \n",
       "2     Fortaleza           80.17           52.28        45.46      66.32   \n",
       "3   Saint Louis           85.25           80.40        77.29      31.33   \n",
       "4   Mexico City           75.07           24.28        61.76      18.95   \n",
       "\n",
       "   Quality of Life  Crime Rating        lat        lng  \n",
       "0             8.61         85.70  10.480594 -66.903606  \n",
       "1            51.26         83.93 -26.204103  28.047305  \n",
       "2            36.68         78.65  -3.732714 -38.526998  \n",
       "3            87.51         78.13  38.627003 -90.199404  \n",
       "4            27.91         77.86  19.432608 -99.133208  "
      ],
      "text/html": "<div>\n<style scoped>\n    .dataframe tbody tr th:only-of-type {\n        vertical-align: middle;\n    }\n\n    .dataframe tbody tr th {\n        vertical-align: top;\n    }\n\n    .dataframe thead th {\n        text-align: right;\n    }\n</style>\n<table border=\"1\" class=\"dataframe\">\n  <thead>\n    <tr style=\"text-align: right;\">\n      <th></th>\n      <th>City</th>\n      <th>Movehub Rating</th>\n      <th>Purchase Power</th>\n      <th>Health Care</th>\n      <th>Pollution</th>\n      <th>Quality of Life</th>\n      <th>Crime Rating</th>\n      <th>lat</th>\n      <th>lng</th>\n    </tr>\n  </thead>\n  <tbody>\n    <tr>\n      <th>0</th>\n      <td>Caracas</td>\n      <td>65.18</td>\n      <td>11.25</td>\n      <td>44.44</td>\n      <td>83.45</td>\n      <td>8.61</td>\n      <td>85.70</td>\n      <td>10.480594</td>\n      <td>-66.903606</td>\n    </tr>\n    <tr>\n      <th>1</th>\n      <td>Johannesburg</td>\n      <td>84.08</td>\n      <td>53.99</td>\n      <td>59.98</td>\n      <td>47.39</td>\n      <td>51.26</td>\n      <td>83.93</td>\n      <td>-26.204103</td>\n      <td>28.047305</td>\n    </tr>\n    <tr>\n      <th>2</th>\n      <td>Fortaleza</td>\n      <td>80.17</td>\n      <td>52.28</td>\n      <td>45.46</td>\n      <td>66.32</td>\n      <td>36.68</td>\n      <td>78.65</td>\n      <td>-3.732714</td>\n      <td>-38.526998</td>\n    </tr>\n    <tr>\n      <th>3</th>\n      <td>Saint Louis</td>\n      <td>85.25</td>\n      <td>80.40</td>\n      <td>77.29</td>\n      <td>31.33</td>\n      <td>87.51</td>\n      <td>78.13</td>\n      <td>38.627003</td>\n      <td>-90.199404</td>\n    </tr>\n    <tr>\n      <th>4</th>\n      <td>Mexico City</td>\n      <td>75.07</td>\n      <td>24.28</td>\n      <td>61.76</td>\n      <td>18.95</td>\n      <td>27.91</td>\n      <td>77.86</td>\n      <td>19.432608</td>\n      <td>-99.133208</td>\n    </tr>\n  </tbody>\n</table>\n</div>"
     },
     "metadata": {},
     "execution_count": 5
    }
   ],
   "source": [
    "df.head()"
   ]
  },
  {
   "cell_type": "code",
   "execution_count": 6,
   "metadata": {},
   "outputs": [],
   "source": []
  },
  {
   "source": [],
   "cell_type": "code",
   "metadata": {},
   "execution_count": null,
   "outputs": []
  },
  {
   "cell_type": "code",
   "execution_count": null,
   "metadata": {},
   "outputs": [],
   "source": []
  }
 ]
}