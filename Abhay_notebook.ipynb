{
 "metadata": {
  "language_info": {
   "codemirror_mode": {
    "name": "ipython",
    "version": 3
   },
   "file_extension": ".py",
   "mimetype": "text/x-python",
   "name": "python",
   "nbconvert_exporter": "python",
   "pygments_lexer": "ipython3",
   "version": "3.8.5-final"
  },
  "orig_nbformat": 2,
  "kernelspec": {
   "name": "Python 3.8.5 64-bit ('env')",
   "display_name": "Python 3.8.5 64-bit ('env')",
   "metadata": {
    "interpreter": {
     "hash": "fea42c37dbe6ba0665458ed7e2e875da28de3f92681278c30161c85f738cbbf3"
    }
   }
  }
 },
 "nbformat": 4,
 "nbformat_minor": 2,
 "cells": [
  {
   "cell_type": "code",
   "execution_count": 1,
   "metadata": {},
   "outputs": [],
   "source": [
    "import os\n",
    "import pandas \n",
    "import numpy \n",
    "from pyzipcode import ZipCodeDatabase\n",
    "import matplotlib as plt"
   ]
  },
  {
   "cell_type": "code",
   "execution_count": 11,
   "metadata": {},
   "outputs": [],
   "source": [
    "data_path = os.path.join(os.getcwd(), \"data\")\n",
    "pop_path = os.path.join(data_path, \"City_based_population.csv\")\n",
    "income_path = os.path.join(data_path, \"kaggle_income.csv\")\n",
    "div_path = os.path.join(data_path, \"population.csv\")\n",
    "# polution = os.path.join(data_path, \"polution.csv\")"
   ]
  },
  {
   "cell_type": "code",
   "execution_count": 12,
   "metadata": {},
   "outputs": [],
   "source": [
    "pop_df = pandas.read_csv(pop_path)\n",
    "div_df = pandas.read_csv(div_path)\n",
    "inc_df = pandas.read_csv(income_path, encoding='latin-1')\n",
    "# us_df = pandas.read_csv(c_2_c_path)"
   ]
  },
  {
   "cell_type": "code",
   "execution_count": 14,
   "metadata": {},
   "outputs": [
    {
     "output_type": "execute_result",
     "data": {
      "text/plain": [
       "         City  population  minimum_age  maximum_age\n",
       "0  Aaronsburg        8495          0.0         84.0\n",
       "1   Abbeville       39509          0.0         84.0\n",
       "2       Abbot        7639          0.0         79.0\n",
       "3  Abbotsford        7711          0.0         84.0\n",
       "4      Abbott        7945          5.0         84.0"
      ],
      "text/html": "<div>\n<style scoped>\n    .dataframe tbody tr th:only-of-type {\n        vertical-align: middle;\n    }\n\n    .dataframe tbody tr th {\n        vertical-align: top;\n    }\n\n    .dataframe thead th {\n        text-align: right;\n    }\n</style>\n<table border=\"1\" class=\"dataframe\">\n  <thead>\n    <tr style=\"text-align: right;\">\n      <th></th>\n      <th>City</th>\n      <th>population</th>\n      <th>minimum_age</th>\n      <th>maximum_age</th>\n    </tr>\n  </thead>\n  <tbody>\n    <tr>\n      <th>0</th>\n      <td>Aaronsburg</td>\n      <td>8495</td>\n      <td>0.0</td>\n      <td>84.0</td>\n    </tr>\n    <tr>\n      <th>1</th>\n      <td>Abbeville</td>\n      <td>39509</td>\n      <td>0.0</td>\n      <td>84.0</td>\n    </tr>\n    <tr>\n      <th>2</th>\n      <td>Abbot</td>\n      <td>7639</td>\n      <td>0.0</td>\n      <td>79.0</td>\n    </tr>\n    <tr>\n      <th>3</th>\n      <td>Abbotsford</td>\n      <td>7711</td>\n      <td>0.0</td>\n      <td>84.0</td>\n    </tr>\n    <tr>\n      <th>4</th>\n      <td>Abbott</td>\n      <td>7945</td>\n      <td>5.0</td>\n      <td>84.0</td>\n    </tr>\n  </tbody>\n</table>\n</div>"
     },
     "metadata": {},
     "execution_count": 14
    }
   ],
   "source": [
    "pop_df = pop_df.dropna()\n",
    "pop_df.shape\n",
    "pop_df.head(5)"
   ]
  },
  {
   "cell_type": "code",
   "execution_count": 5,
   "metadata": {},
   "outputs": [
    {
     "output_type": "execute_result",
     "data": {
      "text/plain": [
       "   CountyId    State          County  TotalPop    Men   Women  Hispanic  \\\n",
       "0      1001  Alabama  Autauga County     55036  26899   28137       2.7   \n",
       "1      1003  Alabama  Baldwin County    203360  99527  103833       4.4   \n",
       "2      1005  Alabama  Barbour County     26201  13976   12225       4.2   \n",
       "3      1007  Alabama     Bibb County     22580  12251   10329       2.4   \n",
       "4      1009  Alabama   Blount County     57667  28490   29177       9.0   \n",
       "\n",
       "   White  Black  Native  ...  Walk  OtherTransp  WorkAtHome  MeanCommute  \\\n",
       "0   75.4   18.9     0.3  ...   0.6          1.3         2.5         25.8   \n",
       "1   83.1    9.5     0.8  ...   0.8          1.1         5.6         27.0   \n",
       "2   45.7   47.8     0.2  ...   2.2          1.7         1.3         23.4   \n",
       "3   74.6   22.0     0.4  ...   0.3          1.7         1.5         30.0   \n",
       "4   87.4    1.5     0.3  ...   0.4          0.4         2.1         35.0   \n",
       "\n",
       "   Employed  PrivateWork  PublicWork  SelfEmployed  FamilyWork  Unemployment  \n",
       "0     24112         74.1        20.2           5.6         0.1           5.2  \n",
       "1     89527         80.7        12.9           6.3         0.1           5.5  \n",
       "2      8878         74.1        19.1           6.5         0.3          12.4  \n",
       "3      8171         76.0        17.4           6.3         0.3           8.2  \n",
       "4     21380         83.9        11.9           4.0         0.1           4.9  \n",
       "\n",
       "[5 rows x 37 columns]"
      ],
      "text/html": "<div>\n<style scoped>\n    .dataframe tbody tr th:only-of-type {\n        vertical-align: middle;\n    }\n\n    .dataframe tbody tr th {\n        vertical-align: top;\n    }\n\n    .dataframe thead th {\n        text-align: right;\n    }\n</style>\n<table border=\"1\" class=\"dataframe\">\n  <thead>\n    <tr style=\"text-align: right;\">\n      <th></th>\n      <th>CountyId</th>\n      <th>State</th>\n      <th>County</th>\n      <th>TotalPop</th>\n      <th>Men</th>\n      <th>Women</th>\n      <th>Hispanic</th>\n      <th>White</th>\n      <th>Black</th>\n      <th>Native</th>\n      <th>...</th>\n      <th>Walk</th>\n      <th>OtherTransp</th>\n      <th>WorkAtHome</th>\n      <th>MeanCommute</th>\n      <th>Employed</th>\n      <th>PrivateWork</th>\n      <th>PublicWork</th>\n      <th>SelfEmployed</th>\n      <th>FamilyWork</th>\n      <th>Unemployment</th>\n    </tr>\n  </thead>\n  <tbody>\n    <tr>\n      <th>0</th>\n      <td>1001</td>\n      <td>Alabama</td>\n      <td>Autauga County</td>\n      <td>55036</td>\n      <td>26899</td>\n      <td>28137</td>\n      <td>2.7</td>\n      <td>75.4</td>\n      <td>18.9</td>\n      <td>0.3</td>\n      <td>...</td>\n      <td>0.6</td>\n      <td>1.3</td>\n      <td>2.5</td>\n      <td>25.8</td>\n      <td>24112</td>\n      <td>74.1</td>\n      <td>20.2</td>\n      <td>5.6</td>\n      <td>0.1</td>\n      <td>5.2</td>\n    </tr>\n    <tr>\n      <th>1</th>\n      <td>1003</td>\n      <td>Alabama</td>\n      <td>Baldwin County</td>\n      <td>203360</td>\n      <td>99527</td>\n      <td>103833</td>\n      <td>4.4</td>\n      <td>83.1</td>\n      <td>9.5</td>\n      <td>0.8</td>\n      <td>...</td>\n      <td>0.8</td>\n      <td>1.1</td>\n      <td>5.6</td>\n      <td>27.0</td>\n      <td>89527</td>\n      <td>80.7</td>\n      <td>12.9</td>\n      <td>6.3</td>\n      <td>0.1</td>\n      <td>5.5</td>\n    </tr>\n    <tr>\n      <th>2</th>\n      <td>1005</td>\n      <td>Alabama</td>\n      <td>Barbour County</td>\n      <td>26201</td>\n      <td>13976</td>\n      <td>12225</td>\n      <td>4.2</td>\n      <td>45.7</td>\n      <td>47.8</td>\n      <td>0.2</td>\n      <td>...</td>\n      <td>2.2</td>\n      <td>1.7</td>\n      <td>1.3</td>\n      <td>23.4</td>\n      <td>8878</td>\n      <td>74.1</td>\n      <td>19.1</td>\n      <td>6.5</td>\n      <td>0.3</td>\n      <td>12.4</td>\n    </tr>\n    <tr>\n      <th>3</th>\n      <td>1007</td>\n      <td>Alabama</td>\n      <td>Bibb County</td>\n      <td>22580</td>\n      <td>12251</td>\n      <td>10329</td>\n      <td>2.4</td>\n      <td>74.6</td>\n      <td>22.0</td>\n      <td>0.4</td>\n      <td>...</td>\n      <td>0.3</td>\n      <td>1.7</td>\n      <td>1.5</td>\n      <td>30.0</td>\n      <td>8171</td>\n      <td>76.0</td>\n      <td>17.4</td>\n      <td>6.3</td>\n      <td>0.3</td>\n      <td>8.2</td>\n    </tr>\n    <tr>\n      <th>4</th>\n      <td>1009</td>\n      <td>Alabama</td>\n      <td>Blount County</td>\n      <td>57667</td>\n      <td>28490</td>\n      <td>29177</td>\n      <td>9.0</td>\n      <td>87.4</td>\n      <td>1.5</td>\n      <td>0.3</td>\n      <td>...</td>\n      <td>0.4</td>\n      <td>0.4</td>\n      <td>2.1</td>\n      <td>35.0</td>\n      <td>21380</td>\n      <td>83.9</td>\n      <td>11.9</td>\n      <td>4.0</td>\n      <td>0.1</td>\n      <td>4.9</td>\n    </tr>\n  </tbody>\n</table>\n<p>5 rows × 37 columns</p>\n</div>"
     },
     "metadata": {},
     "execution_count": 5
    }
   ],
   "source": [
    "div_df.head(5)"
   ]
  },
  {
   "cell_type": "code",
   "execution_count": 6,
   "metadata": {},
   "outputs": [
    {
     "output_type": "execute_result",
     "data": {
      "text/plain": [
       "        id  State_Code State_Name State_ab          County            City  \\\n",
       "0  1011000           1    Alabama       AL   Mobile County       Chickasaw   \n",
       "1  1011010           1    Alabama       AL  Barbour County      Louisville   \n",
       "2  1011020           1    Alabama       AL   Shelby County      Columbiana   \n",
       "3  1011030           1    Alabama       AL   Mobile County         Satsuma   \n",
       "4  1011040           1    Alabama       AL   Mobile County  Dauphin Island   \n",
       "\n",
       "             Place  Type Primary  Zip_Code Area_Code     ALand     AWater  \\\n",
       "0   Chickasaw city  City   place     36611       251  10894952     909156   \n",
       "1        Clio city  City   place     36048       334  26070325      23254   \n",
       "2  Columbiana city  City   place     35051       205  44835274     261034   \n",
       "3      Creola city  City   place     36572       251  36878729    2374530   \n",
       "4   Dauphin Island  Town   place     36528       251  16204185  413605152   \n",
       "\n",
       "         Lat        Lon   Mean  Median  Stdev        sum_w  \n",
       "0  30.771450 -88.079697  38773   30506  33101  1638.260513  \n",
       "1  31.708516 -85.611039  37725   19528  43789   258.017685  \n",
       "2  33.191452 -86.615618  54606   31930  57348   926.031000  \n",
       "3  30.874343 -88.009442  63919   52814  47707   378.114619  \n",
       "4  30.250913 -88.171268  77948   67225  54270   282.320328  "
      ],
      "text/html": "<div>\n<style scoped>\n    .dataframe tbody tr th:only-of-type {\n        vertical-align: middle;\n    }\n\n    .dataframe tbody tr th {\n        vertical-align: top;\n    }\n\n    .dataframe thead th {\n        text-align: right;\n    }\n</style>\n<table border=\"1\" class=\"dataframe\">\n  <thead>\n    <tr style=\"text-align: right;\">\n      <th></th>\n      <th>id</th>\n      <th>State_Code</th>\n      <th>State_Name</th>\n      <th>State_ab</th>\n      <th>County</th>\n      <th>City</th>\n      <th>Place</th>\n      <th>Type</th>\n      <th>Primary</th>\n      <th>Zip_Code</th>\n      <th>Area_Code</th>\n      <th>ALand</th>\n      <th>AWater</th>\n      <th>Lat</th>\n      <th>Lon</th>\n      <th>Mean</th>\n      <th>Median</th>\n      <th>Stdev</th>\n      <th>sum_w</th>\n    </tr>\n  </thead>\n  <tbody>\n    <tr>\n      <th>0</th>\n      <td>1011000</td>\n      <td>1</td>\n      <td>Alabama</td>\n      <td>AL</td>\n      <td>Mobile County</td>\n      <td>Chickasaw</td>\n      <td>Chickasaw city</td>\n      <td>City</td>\n      <td>place</td>\n      <td>36611</td>\n      <td>251</td>\n      <td>10894952</td>\n      <td>909156</td>\n      <td>30.771450</td>\n      <td>-88.079697</td>\n      <td>38773</td>\n      <td>30506</td>\n      <td>33101</td>\n      <td>1638.260513</td>\n    </tr>\n    <tr>\n      <th>1</th>\n      <td>1011010</td>\n      <td>1</td>\n      <td>Alabama</td>\n      <td>AL</td>\n      <td>Barbour County</td>\n      <td>Louisville</td>\n      <td>Clio city</td>\n      <td>City</td>\n      <td>place</td>\n      <td>36048</td>\n      <td>334</td>\n      <td>26070325</td>\n      <td>23254</td>\n      <td>31.708516</td>\n      <td>-85.611039</td>\n      <td>37725</td>\n      <td>19528</td>\n      <td>43789</td>\n      <td>258.017685</td>\n    </tr>\n    <tr>\n      <th>2</th>\n      <td>1011020</td>\n      <td>1</td>\n      <td>Alabama</td>\n      <td>AL</td>\n      <td>Shelby County</td>\n      <td>Columbiana</td>\n      <td>Columbiana city</td>\n      <td>City</td>\n      <td>place</td>\n      <td>35051</td>\n      <td>205</td>\n      <td>44835274</td>\n      <td>261034</td>\n      <td>33.191452</td>\n      <td>-86.615618</td>\n      <td>54606</td>\n      <td>31930</td>\n      <td>57348</td>\n      <td>926.031000</td>\n    </tr>\n    <tr>\n      <th>3</th>\n      <td>1011030</td>\n      <td>1</td>\n      <td>Alabama</td>\n      <td>AL</td>\n      <td>Mobile County</td>\n      <td>Satsuma</td>\n      <td>Creola city</td>\n      <td>City</td>\n      <td>place</td>\n      <td>36572</td>\n      <td>251</td>\n      <td>36878729</td>\n      <td>2374530</td>\n      <td>30.874343</td>\n      <td>-88.009442</td>\n      <td>63919</td>\n      <td>52814</td>\n      <td>47707</td>\n      <td>378.114619</td>\n    </tr>\n    <tr>\n      <th>4</th>\n      <td>1011040</td>\n      <td>1</td>\n      <td>Alabama</td>\n      <td>AL</td>\n      <td>Mobile County</td>\n      <td>Dauphin Island</td>\n      <td>Dauphin Island</td>\n      <td>Town</td>\n      <td>place</td>\n      <td>36528</td>\n      <td>251</td>\n      <td>16204185</td>\n      <td>413605152</td>\n      <td>30.250913</td>\n      <td>-88.171268</td>\n      <td>77948</td>\n      <td>67225</td>\n      <td>54270</td>\n      <td>282.320328</td>\n    </tr>\n  </tbody>\n</table>\n</div>"
     },
     "metadata": {},
     "execution_count": 6
    }
   ],
   "source": [
    "inc_df.head(5)"
   ]
  },
  {
   "cell_type": "code",
   "execution_count": 15,
   "metadata": {},
   "outputs": [
    {
     "output_type": "stream",
     "name": "stdout",
     "text": [
      "population dataframe dimensions\n(17404, 4)\ndiversity dataframe dimensions\n(3220, 37)\nincome dataframe dimensions\n(32526, 19)\n"
     ]
    }
   ],
   "source": [
    "print(\"population dataframe dimensions\")\n",
    "print(pop_df.shape)\n",
    "print(\"diversity dataframe dimensions\")\n",
    "print(div_df.shape)\n",
    "print(\"income dataframe dimensions\")\n",
    "print(inc_df.shape)"
   ]
  },
  {
   "cell_type": "code",
   "execution_count": 101,
   "metadata": {},
   "outputs": [
    {
     "output_type": "execute_result",
     "data": {
      "text/plain": [
       "                    Mean         Stdev         Median\n",
       "City                                                 \n",
       "Abbeville   38459.428571  32514.428571   28405.142857\n",
       "Abbotsford  58254.000000  48933.000000   44919.000000\n",
       "Aberdeen    68306.500000  48011.125000   61055.125000\n",
       "Abilene     51441.866667  39243.666667   74357.666667\n",
       "Abingdon    85714.166667  54581.333333  177704.000000"
      ],
      "text/html": "<div>\n<style scoped>\n    .dataframe tbody tr th:only-of-type {\n        vertical-align: middle;\n    }\n\n    .dataframe tbody tr th {\n        vertical-align: top;\n    }\n\n    .dataframe thead th {\n        text-align: right;\n    }\n</style>\n<table border=\"1\" class=\"dataframe\">\n  <thead>\n    <tr style=\"text-align: right;\">\n      <th></th>\n      <th>Mean</th>\n      <th>Stdev</th>\n      <th>Median</th>\n    </tr>\n    <tr>\n      <th>City</th>\n      <th></th>\n      <th></th>\n      <th></th>\n    </tr>\n  </thead>\n  <tbody>\n    <tr>\n      <th>Abbeville</th>\n      <td>38459.428571</td>\n      <td>32514.428571</td>\n      <td>28405.142857</td>\n    </tr>\n    <tr>\n      <th>Abbotsford</th>\n      <td>58254.000000</td>\n      <td>48933.000000</td>\n      <td>44919.000000</td>\n    </tr>\n    <tr>\n      <th>Aberdeen</th>\n      <td>68306.500000</td>\n      <td>48011.125000</td>\n      <td>61055.125000</td>\n    </tr>\n    <tr>\n      <th>Abilene</th>\n      <td>51441.866667</td>\n      <td>39243.666667</td>\n      <td>74357.666667</td>\n    </tr>\n    <tr>\n      <th>Abingdon</th>\n      <td>85714.166667</td>\n      <td>54581.333333</td>\n      <td>177704.000000</td>\n    </tr>\n  </tbody>\n</table>\n</div>"
     },
     "metadata": {},
     "execution_count": 101
    }
   ],
   "source": [
    "inc_refine = inc_df[['Mean', 'City', 'Stdev', 'Median']].groupby(\"City\").mean()\n",
    "inc_refine.head(5)\n",
    "# inc_refine.to_csv(os.path.join(data_path,'Income_clean.csv'))"
   ]
  },
  {
   "cell_type": "code",
   "execution_count": null,
   "metadata": {},
   "outputs": [],
   "source": []
  },
  {
   "cell_type": "code",
   "execution_count": 52,
   "metadata": {},
   "outputs": [],
   "source": [
    "# inc_refine_sum = inc_refine.groupby('City').sum()\n",
    "# inc_df[inc_df.City == \"Chickasaw\"]\n",
    "# group_new = inc_df.groupby(\"City\")\n",
    "# ((group_new.get_group(\"Chickasaw\"))[['Zip_Code']].values)\n",
    "# filter_us_df = us_df[['city', 'state_id','state_name', 'county_name']]\n",
    "# us_df.columns\n",
    "# us_df[us_df.city == \"New York\"]\n",
    "# us_df.head()\n",
    "# us_df.groupby['city']"
   ]
  },
  {
   "cell_type": "code",
   "execution_count": null,
   "metadata": {},
   "outputs": [],
   "source": []
  }
 ]
}