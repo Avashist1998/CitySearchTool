{
 "metadata": {
  "language_info": {
   "codemirror_mode": {
    "name": "ipython",
    "version": 3
   },
   "file_extension": ".py",
   "mimetype": "text/x-python",
   "name": "python",
   "nbconvert_exporter": "python",
   "pygments_lexer": "ipython3",
   "version": "3.8.6-final"
  },
  "orig_nbformat": 2,
  "kernelspec": {
   "name": "Python 3.8.6 64-bit ('env')",
   "display_name": "Python 3.8.6 64-bit ('env')",
   "metadata": {
    "interpreter": {
     "hash": "fea42c37dbe6ba0665458ed7e2e875da28de3f92681278c30161c85f738cbbf3"
    }
   }
  }
 },
 "nbformat": 4,
 "nbformat_minor": 2,
 "cells": [
  {
   "source": [
    "## Importing Libraries"
   ],
   "cell_type": "markdown",
   "metadata": {}
  },
  {
   "cell_type": "code",
   "execution_count": 142,
   "metadata": {},
   "outputs": [],
   "source": [
    "import os\n",
    "import numpy as np\n",
    "import pandas as pd\n",
    "from pyzipcode import ZipCodeDatabase\n",
    "import matplotlib.pyplot as plt\n",
    "import seaborn as sns\n",
    "from scipy import stats\n",
    "%matplotlib inline"
   ]
  },
  {
   "source": [
    "## Path Defination and Data Importation"
   ],
   "cell_type": "markdown",
   "metadata": {}
  },
  {
   "cell_type": "code",
   "execution_count": 143,
   "metadata": {},
   "outputs": [
    {
     "output_type": "execute_result",
     "data": {
      "text/plain": [
       "        id  State_Code State_Name State_ab          County            City  \\\n",
       "0  1011000           1    Alabama       AL   Mobile County       Chickasaw   \n",
       "1  1011010           1    Alabama       AL  Barbour County      Louisville   \n",
       "2  1011020           1    Alabama       AL   Shelby County      Columbiana   \n",
       "3  1011030           1    Alabama       AL   Mobile County         Satsuma   \n",
       "4  1011040           1    Alabama       AL   Mobile County  Dauphin Island   \n",
       "\n",
       "             Place  Type Primary  Zip_Code Area_Code     ALand     AWater  \\\n",
       "0   Chickasaw city  City   place     36611       251  10894952     909156   \n",
       "1        Clio city  City   place     36048       334  26070325      23254   \n",
       "2  Columbiana city  City   place     35051       205  44835274     261034   \n",
       "3      Creola city  City   place     36572       251  36878729    2374530   \n",
       "4   Dauphin Island  Town   place     36528       251  16204185  413605152   \n",
       "\n",
       "         Lat        Lon   Mean  Median  Stdev        sum_w  \n",
       "0  30.771450 -88.079697  38773   30506  33101  1638.260513  \n",
       "1  31.708516 -85.611039  37725   19528  43789   258.017685  \n",
       "2  33.191452 -86.615618  54606   31930  57348   926.031000  \n",
       "3  30.874343 -88.009442  63919   52814  47707   378.114619  \n",
       "4  30.250913 -88.171268  77948   67225  54270   282.320328  "
      ],
      "text/html": "<div>\n<style scoped>\n    .dataframe tbody tr th:only-of-type {\n        vertical-align: middle;\n    }\n\n    .dataframe tbody tr th {\n        vertical-align: top;\n    }\n\n    .dataframe thead th {\n        text-align: right;\n    }\n</style>\n<table border=\"1\" class=\"dataframe\">\n  <thead>\n    <tr style=\"text-align: right;\">\n      <th></th>\n      <th>id</th>\n      <th>State_Code</th>\n      <th>State_Name</th>\n      <th>State_ab</th>\n      <th>County</th>\n      <th>City</th>\n      <th>Place</th>\n      <th>Type</th>\n      <th>Primary</th>\n      <th>Zip_Code</th>\n      <th>Area_Code</th>\n      <th>ALand</th>\n      <th>AWater</th>\n      <th>Lat</th>\n      <th>Lon</th>\n      <th>Mean</th>\n      <th>Median</th>\n      <th>Stdev</th>\n      <th>sum_w</th>\n    </tr>\n  </thead>\n  <tbody>\n    <tr>\n      <th>0</th>\n      <td>1011000</td>\n      <td>1</td>\n      <td>Alabama</td>\n      <td>AL</td>\n      <td>Mobile County</td>\n      <td>Chickasaw</td>\n      <td>Chickasaw city</td>\n      <td>City</td>\n      <td>place</td>\n      <td>36611</td>\n      <td>251</td>\n      <td>10894952</td>\n      <td>909156</td>\n      <td>30.771450</td>\n      <td>-88.079697</td>\n      <td>38773</td>\n      <td>30506</td>\n      <td>33101</td>\n      <td>1638.260513</td>\n    </tr>\n    <tr>\n      <th>1</th>\n      <td>1011010</td>\n      <td>1</td>\n      <td>Alabama</td>\n      <td>AL</td>\n      <td>Barbour County</td>\n      <td>Louisville</td>\n      <td>Clio city</td>\n      <td>City</td>\n      <td>place</td>\n      <td>36048</td>\n      <td>334</td>\n      <td>26070325</td>\n      <td>23254</td>\n      <td>31.708516</td>\n      <td>-85.611039</td>\n      <td>37725</td>\n      <td>19528</td>\n      <td>43789</td>\n      <td>258.017685</td>\n    </tr>\n    <tr>\n      <th>2</th>\n      <td>1011020</td>\n      <td>1</td>\n      <td>Alabama</td>\n      <td>AL</td>\n      <td>Shelby County</td>\n      <td>Columbiana</td>\n      <td>Columbiana city</td>\n      <td>City</td>\n      <td>place</td>\n      <td>35051</td>\n      <td>205</td>\n      <td>44835274</td>\n      <td>261034</td>\n      <td>33.191452</td>\n      <td>-86.615618</td>\n      <td>54606</td>\n      <td>31930</td>\n      <td>57348</td>\n      <td>926.031000</td>\n    </tr>\n    <tr>\n      <th>3</th>\n      <td>1011030</td>\n      <td>1</td>\n      <td>Alabama</td>\n      <td>AL</td>\n      <td>Mobile County</td>\n      <td>Satsuma</td>\n      <td>Creola city</td>\n      <td>City</td>\n      <td>place</td>\n      <td>36572</td>\n      <td>251</td>\n      <td>36878729</td>\n      <td>2374530</td>\n      <td>30.874343</td>\n      <td>-88.009442</td>\n      <td>63919</td>\n      <td>52814</td>\n      <td>47707</td>\n      <td>378.114619</td>\n    </tr>\n    <tr>\n      <th>4</th>\n      <td>1011040</td>\n      <td>1</td>\n      <td>Alabama</td>\n      <td>AL</td>\n      <td>Mobile County</td>\n      <td>Dauphin Island</td>\n      <td>Dauphin Island</td>\n      <td>Town</td>\n      <td>place</td>\n      <td>36528</td>\n      <td>251</td>\n      <td>16204185</td>\n      <td>413605152</td>\n      <td>30.250913</td>\n      <td>-88.171268</td>\n      <td>77948</td>\n      <td>67225</td>\n      <td>54270</td>\n      <td>282.320328</td>\n    </tr>\n  </tbody>\n</table>\n</div>"
     },
     "metadata": {},
     "execution_count": 143
    }
   ],
   "source": [
    "LOCALPATH = os.path.join(os.getcwd(),\"..\")\n",
    "DATAPATH = os.path.join(LOCALPATH,\"data\")\n",
    "RAWDATA = os.path.join(DATAPATH,\"Raw_data\")\n",
    "INCOME_PATH = os.path.join(RAWDATA, \"kaggle_income.csv\")\n",
    "Income_df = pd.read_csv(INCOME_PATH, encoding='latin-1')\n",
    "Income_df.head()"
   ]
  },
  {
   "cell_type": "code",
   "execution_count": 144,
   "metadata": {},
   "outputs": [
    {
     "output_type": "execute_result",
     "data": {
      "text/plain": [
       "         City State          Mean        Median         Stdev\n",
       "0   Abbeville    AL  40518.000000  25216.000000  39126.000000\n",
       "1   Abbeville    LA  30647.000000  25628.333333  21177.666667\n",
       "2   Abbeville    SC  45585.666667  32245.000000  41647.333333\n",
       "3  Abbotsford    WI  58254.000000  44919.000000  48933.000000\n",
       "4    Aberdeen    MD  96480.000000  80370.000000  64102.000000"
      ],
      "text/html": "<div>\n<style scoped>\n    .dataframe tbody tr th:only-of-type {\n        vertical-align: middle;\n    }\n\n    .dataframe tbody tr th {\n        vertical-align: top;\n    }\n\n    .dataframe thead th {\n        text-align: right;\n    }\n</style>\n<table border=\"1\" class=\"dataframe\">\n  <thead>\n    <tr style=\"text-align: right;\">\n      <th></th>\n      <th>City</th>\n      <th>State</th>\n      <th>Mean</th>\n      <th>Median</th>\n      <th>Stdev</th>\n    </tr>\n  </thead>\n  <tbody>\n    <tr>\n      <th>0</th>\n      <td>Abbeville</td>\n      <td>AL</td>\n      <td>40518.000000</td>\n      <td>25216.000000</td>\n      <td>39126.000000</td>\n    </tr>\n    <tr>\n      <th>1</th>\n      <td>Abbeville</td>\n      <td>LA</td>\n      <td>30647.000000</td>\n      <td>25628.333333</td>\n      <td>21177.666667</td>\n    </tr>\n    <tr>\n      <th>2</th>\n      <td>Abbeville</td>\n      <td>SC</td>\n      <td>45585.666667</td>\n      <td>32245.000000</td>\n      <td>41647.333333</td>\n    </tr>\n    <tr>\n      <th>3</th>\n      <td>Abbotsford</td>\n      <td>WI</td>\n      <td>58254.000000</td>\n      <td>44919.000000</td>\n      <td>48933.000000</td>\n    </tr>\n    <tr>\n      <th>4</th>\n      <td>Aberdeen</td>\n      <td>MD</td>\n      <td>96480.000000</td>\n      <td>80370.000000</td>\n      <td>64102.000000</td>\n    </tr>\n  </tbody>\n</table>\n</div>"
     },
     "metadata": {},
     "execution_count": 144
    }
   ],
   "source": [
    "mean_income_df = Income_df[['Mean','Median','Stdev','City','State_ab']].groupby(['City','State_ab'], as_index=False).mean()\n",
    "mean_income_df = mean_income_df.rename(columns={'State_ab':'State'})\n",
    "mean_income_df.head()"
   ]
  },
  {
   "cell_type": "code",
   "execution_count": 145,
   "metadata": {},
   "outputs": [
    {
     "output_type": "execute_result",
     "data": {
      "text/plain": [
       "(11228, 5)"
      ]
     },
     "metadata": {},
     "execution_count": 145
    }
   ],
   "source": [
    "mean_income_df.shape"
   ]
  },
  {
   "cell_type": "code",
   "execution_count": 146,
   "metadata": {},
   "outputs": [
    {
     "output_type": "execute_result",
     "data": {
      "text/plain": [
       "(2995, 37)"
      ]
     },
     "metadata": {},
     "execution_count": 146
    }
   ],
   "source": [
    "tot_df.shape"
   ]
  },
  {
   "cell_type": "code",
   "execution_count": 147,
   "metadata": {},
   "outputs": [
    {
     "output_type": "execute_result",
     "data": {
      "text/plain": [
       "(1374, 32)"
      ]
     },
     "metadata": {},
     "execution_count": 147
    }
   ],
   "source": [
    "total_df = mean_income_df.merge(total_df, on=['City','State'])\n",
    "total_df.shape"
   ]
  },
  {
   "cell_type": "code",
   "execution_count": 148,
   "metadata": {},
   "outputs": [],
   "source": [
    "LOCALPATH = os.path.join(os.getcwd(),\"..\")\n",
    "DATAPATH = os.path.join(LOCALPATH,\"City_Search_Data\")\n",
    "POP_PATH = os.path.join(DATAPATH,\"Population_df.csv\")\n",
    "DIV_PATH = os.path.join(DATAPATH,\"Diversity_df.csv\")\n",
    "POV_PATH = os.path.join(DATAPATH,'Poverty_df.csv')\n",
    "EMPLOYMENT_PATH = os.path.join(DATAPATH,'Employment_df.csv')\n",
    "EMPLOYMENT_RATIO_PATH = os.path.join(DATAPATH,\"Employment_ratio_df.csv\")\n",
    "INDUSTRY_PATH = os.path.join(DATAPATH,\"Industry_df.csv\")\n",
    "TRANSPORT_PATH = os.path.join(DATAPATH,\"Transportation_df.csv\")\n",
    "INCOME_PATH = os.path.join(DATAPATH,\"Mean_Income_df.csv\")\n",
    "TOTAL_SEARCH_PATH = os.path.join(DATAPATH, \"Total_Search_df.csv\")\n",
    "RECOMMENPATH = os.path.join(DATAPATH, \"Recommendation_df.csv\")\n"
   ]
  },
  {
   "cell_type": "code",
   "execution_count": 149,
   "metadata": {},
   "outputs": [],
   "source": [
    "tot_ser_df = pd.read_csv(TOTAL_SEARCH_PATH, index_col ='index')\n",
    "pop_df = pd.read_csv(POP_PATH, index_col='index')\n",
    "pov_df = pd.read_csv(POV_PATH)\n",
    "div_df = pd.read_csv(DIV_PATH)\n",
    "inc_df = pd.read_csv(INCOME_PATH)\n",
    "rec_df = pd.read_csv(RECOMMENPATH)\n",
    "ind_df = pd.read_csv(INDUSTRY_PATH)\n",
    "tra_df = pd.read_csv(TRANSPORT_PATH)\n",
    "emp_df = pd.read_csv(EMPLOYMENT_PATH)\n",
    "emp_r_df = pd.read_csv(EMPLOYMENT_RATIO_PATH)"
   ]
  },
  {
   "cell_type": "code",
   "execution_count": 150,
   "metadata": {},
   "outputs": [
    {
     "output_type": "execute_result",
     "data": {
      "text/plain": [
       "           City State  population  minimum_age_x  minimum_age_y  Hispanic  \\\n",
       "index                                                                       \n",
       "19     Aberdeen    WA     1029028            0.0           80.0       9.6   \n",
       "24      Abilene    TX     5365712            0.0           80.0      23.2   \n",
       "26     Abingdon    MD     1299364            0.0           80.0       4.0   \n",
       "27     Abingdon    VA     1152008            0.0           80.0       1.4   \n",
       "109       Adena    OH       94556            0.0           80.0       0.8   \n",
       "\n",
       "       White  Black  Native  Asian  ...  PublicWork  SelfEmployed  FamilyWork  \\\n",
       "index                               ...                                         \n",
       "19      80.1    1.1     4.0    1.5  ...        21.7           7.0         0.2   \n",
       "24      65.6    7.2     0.4    1.7  ...        16.5           5.7         0.2   \n",
       "26      77.6   12.9     0.2    2.8  ...        21.2           4.2         0.2   \n",
       "27      95.6    1.4     0.0    0.6  ...        15.9           6.0         0.0   \n",
       "109     93.2    3.8     0.2    0.4  ...        13.9           3.8         0.1   \n",
       "\n",
       "        Income  IncomeErr  IncomePerCap  IncomePerCapErr           Mean  \\\n",
       "index                                                                     \n",
       "19     43538.0     1652.0       22387.0            757.0   72647.000000   \n",
       "24     45396.0     1528.0       23896.0            744.0   51258.923077   \n",
       "26     80465.0     1153.0       35746.0            520.0  109797.000000   \n",
       "27     43310.0     1910.0       25351.0            968.0   60952.500000   \n",
       "109    43833.0     1491.0       23684.0            711.0   51340.500000   \n",
       "\n",
       "              Median         Stdev  \n",
       "index                               \n",
       "19      80209.000000  46242.000000  \n",
       "24      79425.538462  38462.769231  \n",
       "26     300000.000000  57646.500000  \n",
       "27      47182.500000  54058.000000  \n",
       "109     48046.500000  37181.500000  \n",
       "\n",
       "[5 rows x 38 columns]"
      ],
      "text/html": "<div>\n<style scoped>\n    .dataframe tbody tr th:only-of-type {\n        vertical-align: middle;\n    }\n\n    .dataframe tbody tr th {\n        vertical-align: top;\n    }\n\n    .dataframe thead th {\n        text-align: right;\n    }\n</style>\n<table border=\"1\" class=\"dataframe\">\n  <thead>\n    <tr style=\"text-align: right;\">\n      <th></th>\n      <th>City</th>\n      <th>State</th>\n      <th>population</th>\n      <th>minimum_age_x</th>\n      <th>minimum_age_y</th>\n      <th>Hispanic</th>\n      <th>White</th>\n      <th>Black</th>\n      <th>Native</th>\n      <th>Asian</th>\n      <th>...</th>\n      <th>PublicWork</th>\n      <th>SelfEmployed</th>\n      <th>FamilyWork</th>\n      <th>Income</th>\n      <th>IncomeErr</th>\n      <th>IncomePerCap</th>\n      <th>IncomePerCapErr</th>\n      <th>Mean</th>\n      <th>Median</th>\n      <th>Stdev</th>\n    </tr>\n    <tr>\n      <th>index</th>\n      <th></th>\n      <th></th>\n      <th></th>\n      <th></th>\n      <th></th>\n      <th></th>\n      <th></th>\n      <th></th>\n      <th></th>\n      <th></th>\n      <th></th>\n      <th></th>\n      <th></th>\n      <th></th>\n      <th></th>\n      <th></th>\n      <th></th>\n      <th></th>\n      <th></th>\n      <th></th>\n      <th></th>\n    </tr>\n  </thead>\n  <tbody>\n    <tr>\n      <th>19</th>\n      <td>Aberdeen</td>\n      <td>WA</td>\n      <td>1029028</td>\n      <td>0.0</td>\n      <td>80.0</td>\n      <td>9.6</td>\n      <td>80.1</td>\n      <td>1.1</td>\n      <td>4.0</td>\n      <td>1.5</td>\n      <td>...</td>\n      <td>21.7</td>\n      <td>7.0</td>\n      <td>0.2</td>\n      <td>43538.0</td>\n      <td>1652.0</td>\n      <td>22387.0</td>\n      <td>757.0</td>\n      <td>72647.000000</td>\n      <td>80209.000000</td>\n      <td>46242.000000</td>\n    </tr>\n    <tr>\n      <th>24</th>\n      <td>Abilene</td>\n      <td>TX</td>\n      <td>5365712</td>\n      <td>0.0</td>\n      <td>80.0</td>\n      <td>23.2</td>\n      <td>65.6</td>\n      <td>7.2</td>\n      <td>0.4</td>\n      <td>1.7</td>\n      <td>...</td>\n      <td>16.5</td>\n      <td>5.7</td>\n      <td>0.2</td>\n      <td>45396.0</td>\n      <td>1528.0</td>\n      <td>23896.0</td>\n      <td>744.0</td>\n      <td>51258.923077</td>\n      <td>79425.538462</td>\n      <td>38462.769231</td>\n    </tr>\n    <tr>\n      <th>26</th>\n      <td>Abingdon</td>\n      <td>MD</td>\n      <td>1299364</td>\n      <td>0.0</td>\n      <td>80.0</td>\n      <td>4.0</td>\n      <td>77.6</td>\n      <td>12.9</td>\n      <td>0.2</td>\n      <td>2.8</td>\n      <td>...</td>\n      <td>21.2</td>\n      <td>4.2</td>\n      <td>0.2</td>\n      <td>80465.0</td>\n      <td>1153.0</td>\n      <td>35746.0</td>\n      <td>520.0</td>\n      <td>109797.000000</td>\n      <td>300000.000000</td>\n      <td>57646.500000</td>\n    </tr>\n    <tr>\n      <th>27</th>\n      <td>Abingdon</td>\n      <td>VA</td>\n      <td>1152008</td>\n      <td>0.0</td>\n      <td>80.0</td>\n      <td>1.4</td>\n      <td>95.6</td>\n      <td>1.4</td>\n      <td>0.0</td>\n      <td>0.6</td>\n      <td>...</td>\n      <td>15.9</td>\n      <td>6.0</td>\n      <td>0.0</td>\n      <td>43310.0</td>\n      <td>1910.0</td>\n      <td>25351.0</td>\n      <td>968.0</td>\n      <td>60952.500000</td>\n      <td>47182.500000</td>\n      <td>54058.000000</td>\n    </tr>\n    <tr>\n      <th>109</th>\n      <td>Adena</td>\n      <td>OH</td>\n      <td>94556</td>\n      <td>0.0</td>\n      <td>80.0</td>\n      <td>0.8</td>\n      <td>93.2</td>\n      <td>3.8</td>\n      <td>0.2</td>\n      <td>0.4</td>\n      <td>...</td>\n      <td>13.9</td>\n      <td>3.8</td>\n      <td>0.1</td>\n      <td>43833.0</td>\n      <td>1491.0</td>\n      <td>23684.0</td>\n      <td>711.0</td>\n      <td>51340.500000</td>\n      <td>48046.500000</td>\n      <td>37181.500000</td>\n    </tr>\n  </tbody>\n</table>\n<p>5 rows × 38 columns</p>\n</div>"
     },
     "metadata": {},
     "execution_count": 150
    }
   ],
   "source": [
    "tot_ser_df.head()"
   ]
  },
  {
   "cell_type": "code",
   "execution_count": 151,
   "metadata": {},
   "outputs": [
    {
     "output_type": "execute_result",
     "data": {
      "text/plain": [
       "             City State  population  minimum_age_x  minimum_age_y\n",
       "index                                                            \n",
       "0      Aaronsburg    PA       52888            0.0           80.0\n",
       "1       Abbeville    AL      289564            0.0           80.0\n",
       "2       Abbeville    GA      208956            0.0           80.0\n",
       "3       Abbeville    LA     1092520            0.0           80.0\n",
       "4       Abbeville    MS      103532            0.0           80.0"
      ],
      "text/html": "<div>\n<style scoped>\n    .dataframe tbody tr th:only-of-type {\n        vertical-align: middle;\n    }\n\n    .dataframe tbody tr th {\n        vertical-align: top;\n    }\n\n    .dataframe thead th {\n        text-align: right;\n    }\n</style>\n<table border=\"1\" class=\"dataframe\">\n  <thead>\n    <tr style=\"text-align: right;\">\n      <th></th>\n      <th>City</th>\n      <th>State</th>\n      <th>population</th>\n      <th>minimum_age_x</th>\n      <th>minimum_age_y</th>\n    </tr>\n    <tr>\n      <th>index</th>\n      <th></th>\n      <th></th>\n      <th></th>\n      <th></th>\n      <th></th>\n    </tr>\n  </thead>\n  <tbody>\n    <tr>\n      <th>0</th>\n      <td>Aaronsburg</td>\n      <td>PA</td>\n      <td>52888</td>\n      <td>0.0</td>\n      <td>80.0</td>\n    </tr>\n    <tr>\n      <th>1</th>\n      <td>Abbeville</td>\n      <td>AL</td>\n      <td>289564</td>\n      <td>0.0</td>\n      <td>80.0</td>\n    </tr>\n    <tr>\n      <th>2</th>\n      <td>Abbeville</td>\n      <td>GA</td>\n      <td>208956</td>\n      <td>0.0</td>\n      <td>80.0</td>\n    </tr>\n    <tr>\n      <th>3</th>\n      <td>Abbeville</td>\n      <td>LA</td>\n      <td>1092520</td>\n      <td>0.0</td>\n      <td>80.0</td>\n    </tr>\n    <tr>\n      <th>4</th>\n      <td>Abbeville</td>\n      <td>MS</td>\n      <td>103532</td>\n      <td>0.0</td>\n      <td>80.0</td>\n    </tr>\n  </tbody>\n</table>\n</div>"
     },
     "metadata": {},
     "execution_count": 151
    }
   ],
   "source": [
    "pop_df.head()"
   ]
  },
  {
   "cell_type": "code",
   "execution_count": 152,
   "metadata": {},
   "outputs": [
    {
     "output_type": "execute_result",
     "data": {
      "text/plain": [
       "        City State  Poverty  ChildPoverty\n",
       "0   Aberdeen    WA     18.1          24.8\n",
       "1    Abilene    TX     17.4          21.6\n",
       "2   Abingdon    MD      8.0          11.7\n",
       "3   Abingdon    VA     12.8          17.1\n",
       "4  Adams Run    SC     13.1          18.4"
      ],
      "text/html": "<div>\n<style scoped>\n    .dataframe tbody tr th:only-of-type {\n        vertical-align: middle;\n    }\n\n    .dataframe tbody tr th {\n        vertical-align: top;\n    }\n\n    .dataframe thead th {\n        text-align: right;\n    }\n</style>\n<table border=\"1\" class=\"dataframe\">\n  <thead>\n    <tr style=\"text-align: right;\">\n      <th></th>\n      <th>City</th>\n      <th>State</th>\n      <th>Poverty</th>\n      <th>ChildPoverty</th>\n    </tr>\n  </thead>\n  <tbody>\n    <tr>\n      <th>0</th>\n      <td>Aberdeen</td>\n      <td>WA</td>\n      <td>18.1</td>\n      <td>24.8</td>\n    </tr>\n    <tr>\n      <th>1</th>\n      <td>Abilene</td>\n      <td>TX</td>\n      <td>17.4</td>\n      <td>21.6</td>\n    </tr>\n    <tr>\n      <th>2</th>\n      <td>Abingdon</td>\n      <td>MD</td>\n      <td>8.0</td>\n      <td>11.7</td>\n    </tr>\n    <tr>\n      <th>3</th>\n      <td>Abingdon</td>\n      <td>VA</td>\n      <td>12.8</td>\n      <td>17.1</td>\n    </tr>\n    <tr>\n      <th>4</th>\n      <td>Adams Run</td>\n      <td>SC</td>\n      <td>13.1</td>\n      <td>18.4</td>\n    </tr>\n  </tbody>\n</table>\n</div>"
     },
     "metadata": {},
     "execution_count": 152
    }
   ],
   "source": [
    "pov_df.head()"
   ]
  },
  {
   "cell_type": "code",
   "execution_count": 153,
   "metadata": {},
   "outputs": [
    {
     "output_type": "execute_result",
     "data": {
      "text/plain": [
       "        City State  Professional  Service  Office  Construction  Production\n",
       "0   Aberdeen    WA          25.0     24.9    23.1          11.8        15.1\n",
       "1    Abilene    TX          30.3     21.9    25.8          11.1        10.9\n",
       "2   Abingdon    MD          42.4     14.7    25.0           8.6         9.3\n",
       "3   Abingdon    VA          34.4     17.1    24.8           7.3        16.4\n",
       "4  Adams Run    SC          34.5     16.7    26.1          10.5        12.3"
      ],
      "text/html": "<div>\n<style scoped>\n    .dataframe tbody tr th:only-of-type {\n        vertical-align: middle;\n    }\n\n    .dataframe tbody tr th {\n        vertical-align: top;\n    }\n\n    .dataframe thead th {\n        text-align: right;\n    }\n</style>\n<table border=\"1\" class=\"dataframe\">\n  <thead>\n    <tr style=\"text-align: right;\">\n      <th></th>\n      <th>City</th>\n      <th>State</th>\n      <th>Professional</th>\n      <th>Service</th>\n      <th>Office</th>\n      <th>Construction</th>\n      <th>Production</th>\n    </tr>\n  </thead>\n  <tbody>\n    <tr>\n      <th>0</th>\n      <td>Aberdeen</td>\n      <td>WA</td>\n      <td>25.0</td>\n      <td>24.9</td>\n      <td>23.1</td>\n      <td>11.8</td>\n      <td>15.1</td>\n    </tr>\n    <tr>\n      <th>1</th>\n      <td>Abilene</td>\n      <td>TX</td>\n      <td>30.3</td>\n      <td>21.9</td>\n      <td>25.8</td>\n      <td>11.1</td>\n      <td>10.9</td>\n    </tr>\n    <tr>\n      <th>2</th>\n      <td>Abingdon</td>\n      <td>MD</td>\n      <td>42.4</td>\n      <td>14.7</td>\n      <td>25.0</td>\n      <td>8.6</td>\n      <td>9.3</td>\n    </tr>\n    <tr>\n      <th>3</th>\n      <td>Abingdon</td>\n      <td>VA</td>\n      <td>34.4</td>\n      <td>17.1</td>\n      <td>24.8</td>\n      <td>7.3</td>\n      <td>16.4</td>\n    </tr>\n    <tr>\n      <th>4</th>\n      <td>Adams Run</td>\n      <td>SC</td>\n      <td>34.5</td>\n      <td>16.7</td>\n      <td>26.1</td>\n      <td>10.5</td>\n      <td>12.3</td>\n    </tr>\n  </tbody>\n</table>\n</div>"
     },
     "metadata": {},
     "execution_count": 153
    }
   ],
   "source": [
    "ind_df.head()"
   ]
  },
  {
   "cell_type": "code",
   "execution_count": 154,
   "metadata": {},
   "outputs": [
    {
     "output_type": "execute_result",
     "data": {
      "text/plain": [
       "        City State  Drive  Carpool  Transit  Walk  OtherTransp  WorkAtHome  \\\n",
       "0   Aberdeen    WA   76.9     13.4      1.5   2.2          2.0         3.9   \n",
       "1    Abilene    TX   81.4     11.4      0.6   2.3          1.8         2.5   \n",
       "2   Abingdon    MD   83.2      9.1      1.7   1.4          0.8         3.9   \n",
       "3   Abingdon    VA   84.2      8.8      0.3   1.8          0.6         4.2   \n",
       "4  Adams Run    SC   83.6      9.9      0.6   0.9          1.2         3.8   \n",
       "\n",
       "   MeanCommute  \n",
       "0         24.2  \n",
       "1         15.9  \n",
       "2         31.7  \n",
       "3         23.2  \n",
       "4         28.2  "
      ],
      "text/html": "<div>\n<style scoped>\n    .dataframe tbody tr th:only-of-type {\n        vertical-align: middle;\n    }\n\n    .dataframe tbody tr th {\n        vertical-align: top;\n    }\n\n    .dataframe thead th {\n        text-align: right;\n    }\n</style>\n<table border=\"1\" class=\"dataframe\">\n  <thead>\n    <tr style=\"text-align: right;\">\n      <th></th>\n      <th>City</th>\n      <th>State</th>\n      <th>Drive</th>\n      <th>Carpool</th>\n      <th>Transit</th>\n      <th>Walk</th>\n      <th>OtherTransp</th>\n      <th>WorkAtHome</th>\n      <th>MeanCommute</th>\n    </tr>\n  </thead>\n  <tbody>\n    <tr>\n      <th>0</th>\n      <td>Aberdeen</td>\n      <td>WA</td>\n      <td>76.9</td>\n      <td>13.4</td>\n      <td>1.5</td>\n      <td>2.2</td>\n      <td>2.0</td>\n      <td>3.9</td>\n      <td>24.2</td>\n    </tr>\n    <tr>\n      <th>1</th>\n      <td>Abilene</td>\n      <td>TX</td>\n      <td>81.4</td>\n      <td>11.4</td>\n      <td>0.6</td>\n      <td>2.3</td>\n      <td>1.8</td>\n      <td>2.5</td>\n      <td>15.9</td>\n    </tr>\n    <tr>\n      <th>2</th>\n      <td>Abingdon</td>\n      <td>MD</td>\n      <td>83.2</td>\n      <td>9.1</td>\n      <td>1.7</td>\n      <td>1.4</td>\n      <td>0.8</td>\n      <td>3.9</td>\n      <td>31.7</td>\n    </tr>\n    <tr>\n      <th>3</th>\n      <td>Abingdon</td>\n      <td>VA</td>\n      <td>84.2</td>\n      <td>8.8</td>\n      <td>0.3</td>\n      <td>1.8</td>\n      <td>0.6</td>\n      <td>4.2</td>\n      <td>23.2</td>\n    </tr>\n    <tr>\n      <th>4</th>\n      <td>Adams Run</td>\n      <td>SC</td>\n      <td>83.6</td>\n      <td>9.9</td>\n      <td>0.6</td>\n      <td>0.9</td>\n      <td>1.2</td>\n      <td>3.8</td>\n      <td>28.2</td>\n    </tr>\n  </tbody>\n</table>\n</div>"
     },
     "metadata": {},
     "execution_count": 154
    }
   ],
   "source": [
    "tra_df.head()"
   ]
  },
  {
   "cell_type": "code",
   "execution_count": 155,
   "metadata": {},
   "outputs": [
    {
     "output_type": "execute_result",
     "data": {
      "text/plain": [
       "        City State  PrivateWork  PublicWork  SelfEmployed  FamilyWork\n",
       "0   Aberdeen    WA         71.2        21.7           7.0         0.2\n",
       "1    Abilene    TX         77.5        16.5           5.7         0.2\n",
       "2   Abingdon    MD         74.4        21.2           4.2         0.2\n",
       "3   Abingdon    VA         78.1        15.9           6.0         0.0\n",
       "4  Adams Run    SC         77.0        18.3           4.5         0.2"
      ],
      "text/html": "<div>\n<style scoped>\n    .dataframe tbody tr th:only-of-type {\n        vertical-align: middle;\n    }\n\n    .dataframe tbody tr th {\n        vertical-align: top;\n    }\n\n    .dataframe thead th {\n        text-align: right;\n    }\n</style>\n<table border=\"1\" class=\"dataframe\">\n  <thead>\n    <tr style=\"text-align: right;\">\n      <th></th>\n      <th>City</th>\n      <th>State</th>\n      <th>PrivateWork</th>\n      <th>PublicWork</th>\n      <th>SelfEmployed</th>\n      <th>FamilyWork</th>\n    </tr>\n  </thead>\n  <tbody>\n    <tr>\n      <th>0</th>\n      <td>Aberdeen</td>\n      <td>WA</td>\n      <td>71.2</td>\n      <td>21.7</td>\n      <td>7.0</td>\n      <td>0.2</td>\n    </tr>\n    <tr>\n      <th>1</th>\n      <td>Abilene</td>\n      <td>TX</td>\n      <td>77.5</td>\n      <td>16.5</td>\n      <td>5.7</td>\n      <td>0.2</td>\n    </tr>\n    <tr>\n      <th>2</th>\n      <td>Abingdon</td>\n      <td>MD</td>\n      <td>74.4</td>\n      <td>21.2</td>\n      <td>4.2</td>\n      <td>0.2</td>\n    </tr>\n    <tr>\n      <th>3</th>\n      <td>Abingdon</td>\n      <td>VA</td>\n      <td>78.1</td>\n      <td>15.9</td>\n      <td>6.0</td>\n      <td>0.0</td>\n    </tr>\n    <tr>\n      <th>4</th>\n      <td>Adams Run</td>\n      <td>SC</td>\n      <td>77.0</td>\n      <td>18.3</td>\n      <td>4.5</td>\n      <td>0.2</td>\n    </tr>\n  </tbody>\n</table>\n</div>"
     },
     "metadata": {},
     "execution_count": 155
    }
   ],
   "source": [
    "emp_r_df.head()"
   ]
  },
  {
   "source": [
    "### Recommendation Data"
   ],
   "cell_type": "markdown",
   "metadata": {}
  },
  {
   "cell_type": "code",
   "execution_count": 159,
   "metadata": {},
   "outputs": [
    {
     "output_type": "execute_result",
     "data": {
      "text/plain": [
       "       City State         Mean_x       Median_x       Stdev_x         Mean_y  \\\n",
       "0  Aberdeen    WA   72647.000000   80209.000000  46242.000000   72647.000000   \n",
       "1   Abilene    TX   51258.923077   79425.538462  38462.769231   51258.923077   \n",
       "2  Abingdon    MD  109797.000000  300000.000000  57646.500000  109797.000000   \n",
       "3  Abingdon    VA   60952.500000   47182.500000  54058.000000   60952.500000   \n",
       "4     Adena    OH   51340.500000   48046.500000  37181.500000   51340.500000   \n",
       "\n",
       "        Median_y       Stdev_y  population  Poverty  ...  WorkAtHome  \\\n",
       "0   80209.000000  46242.000000     1029028     67.7  ...         690   \n",
       "1   79425.538462  38462.769231     5365712     60.6  ...        1739   \n",
       "2  300000.000000  57646.500000     1299364     31.4  ...        1000   \n",
       "3   47182.500000  54058.000000     1152008     47.0  ...         115   \n",
       "4   48046.500000  37181.500000       94556     57.6  ...        2019   \n",
       "\n",
       "   MeanCommute  PrivateWork  PublicWork  SelfEmployed  FamilyWork  Income  \\\n",
       "0           20         2480         180           115        2302    1550   \n",
       "1         2523         1528        2025          1637        1000    1708   \n",
       "2          871          714        2506          2257         489     565   \n",
       "3         2975         1390        1782           823        2535     631   \n",
       "4         2168         1951        1037          2726         495    1184   \n",
       "\n",
       "   IncomeErr  IncomePerCap  IncomePerCapErr  \n",
       "0       1638          1708             1638  \n",
       "1        783           565              783  \n",
       "2       1915          1552              135  \n",
       "3       1074          1523             2177  \n",
       "4        905           190              382  \n",
       "\n",
       "[5 rows x 32 columns]"
      ],
      "text/html": "<div>\n<style scoped>\n    .dataframe tbody tr th:only-of-type {\n        vertical-align: middle;\n    }\n\n    .dataframe tbody tr th {\n        vertical-align: top;\n    }\n\n    .dataframe thead th {\n        text-align: right;\n    }\n</style>\n<table border=\"1\" class=\"dataframe\">\n  <thead>\n    <tr style=\"text-align: right;\">\n      <th></th>\n      <th>City</th>\n      <th>State</th>\n      <th>Mean_x</th>\n      <th>Median_x</th>\n      <th>Stdev_x</th>\n      <th>Mean_y</th>\n      <th>Median_y</th>\n      <th>Stdev_y</th>\n      <th>population</th>\n      <th>Poverty</th>\n      <th>...</th>\n      <th>WorkAtHome</th>\n      <th>MeanCommute</th>\n      <th>PrivateWork</th>\n      <th>PublicWork</th>\n      <th>SelfEmployed</th>\n      <th>FamilyWork</th>\n      <th>Income</th>\n      <th>IncomeErr</th>\n      <th>IncomePerCap</th>\n      <th>IncomePerCapErr</th>\n    </tr>\n  </thead>\n  <tbody>\n    <tr>\n      <th>0</th>\n      <td>Aberdeen</td>\n      <td>WA</td>\n      <td>72647.000000</td>\n      <td>80209.000000</td>\n      <td>46242.000000</td>\n      <td>72647.000000</td>\n      <td>80209.000000</td>\n      <td>46242.000000</td>\n      <td>1029028</td>\n      <td>67.7</td>\n      <td>...</td>\n      <td>690</td>\n      <td>20</td>\n      <td>2480</td>\n      <td>180</td>\n      <td>115</td>\n      <td>2302</td>\n      <td>1550</td>\n      <td>1638</td>\n      <td>1708</td>\n      <td>1638</td>\n    </tr>\n    <tr>\n      <th>1</th>\n      <td>Abilene</td>\n      <td>TX</td>\n      <td>51258.923077</td>\n      <td>79425.538462</td>\n      <td>38462.769231</td>\n      <td>51258.923077</td>\n      <td>79425.538462</td>\n      <td>38462.769231</td>\n      <td>5365712</td>\n      <td>60.6</td>\n      <td>...</td>\n      <td>1739</td>\n      <td>2523</td>\n      <td>1528</td>\n      <td>2025</td>\n      <td>1637</td>\n      <td>1000</td>\n      <td>1708</td>\n      <td>783</td>\n      <td>565</td>\n      <td>783</td>\n    </tr>\n    <tr>\n      <th>2</th>\n      <td>Abingdon</td>\n      <td>MD</td>\n      <td>109797.000000</td>\n      <td>300000.000000</td>\n      <td>57646.500000</td>\n      <td>109797.000000</td>\n      <td>300000.000000</td>\n      <td>57646.500000</td>\n      <td>1299364</td>\n      <td>31.4</td>\n      <td>...</td>\n      <td>1000</td>\n      <td>871</td>\n      <td>714</td>\n      <td>2506</td>\n      <td>2257</td>\n      <td>489</td>\n      <td>565</td>\n      <td>1915</td>\n      <td>1552</td>\n      <td>135</td>\n    </tr>\n    <tr>\n      <th>3</th>\n      <td>Abingdon</td>\n      <td>VA</td>\n      <td>60952.500000</td>\n      <td>47182.500000</td>\n      <td>54058.000000</td>\n      <td>60952.500000</td>\n      <td>47182.500000</td>\n      <td>54058.000000</td>\n      <td>1152008</td>\n      <td>47.0</td>\n      <td>...</td>\n      <td>115</td>\n      <td>2975</td>\n      <td>1390</td>\n      <td>1782</td>\n      <td>823</td>\n      <td>2535</td>\n      <td>631</td>\n      <td>1074</td>\n      <td>1523</td>\n      <td>2177</td>\n    </tr>\n    <tr>\n      <th>4</th>\n      <td>Adena</td>\n      <td>OH</td>\n      <td>51340.500000</td>\n      <td>48046.500000</td>\n      <td>37181.500000</td>\n      <td>51340.500000</td>\n      <td>48046.500000</td>\n      <td>37181.500000</td>\n      <td>94556</td>\n      <td>57.6</td>\n      <td>...</td>\n      <td>2019</td>\n      <td>2168</td>\n      <td>1951</td>\n      <td>1037</td>\n      <td>2726</td>\n      <td>495</td>\n      <td>1184</td>\n      <td>905</td>\n      <td>190</td>\n      <td>382</td>\n    </tr>\n  </tbody>\n</table>\n<p>5 rows × 32 columns</p>\n</div>"
     },
     "metadata": {},
     "execution_count": 159
    }
   ],
   "source": [
    "LOCALPATH = os.path.join(os.getcwd(),\"..\")\n",
    "DATAPATH = os.path.join(LOCALPATH,\"City_Search_Data\")\n",
    "RECOM_PATH = os.path.join(DATAPATH,\"Recommendation_df.csv\")\n",
    "recom_df = pd.read_csv(RECOM_PATH)\n",
    "total_df.head()"
   ]
  },
  {
   "cell_type": "code",
   "execution_count": 161,
   "metadata": {},
   "outputs": [
    {
     "output_type": "execute_result",
     "data": {
      "text/plain": [
       "          Mean_x       Median_x       Stdev_x         Mean_y       Median_y  \\\n",
       "0   72647.000000   80209.000000  46242.000000   72647.000000   80209.000000   \n",
       "1   51258.923077   79425.538462  38462.769231   51258.923077   79425.538462   \n",
       "2  109797.000000  300000.000000  57646.500000  109797.000000  300000.000000   \n",
       "3   60952.500000   47182.500000  54058.000000   60952.500000   47182.500000   \n",
       "4   51340.500000   48046.500000  37181.500000   51340.500000   48046.500000   \n",
       "\n",
       "        Stdev_y  population  Poverty  Diversity  Employment  ...  WorkAtHome  \\\n",
       "0  46242.000000     1029028     67.7    5060.57  1593338.16  ...         690   \n",
       "1  38462.769231     5365712     60.6    4511.59  3691277.68  ...        1739   \n",
       "2  57646.500000     1299364     31.4    4966.20  7738510.08  ...        1000   \n",
       "3  54058.000000     1152008     47.0    5841.56  1486344.08  ...         115   \n",
       "4  37181.500000       94556     57.6    5716.26  1807795.60  ...        2019   \n",
       "\n",
       "   MeanCommute  PrivateWork  PublicWork  SelfEmployed  FamilyWork  Income  \\\n",
       "0           20         2480         180           115        2302    1550   \n",
       "1         2523         1528        2025          1637        1000    1708   \n",
       "2          871          714        2506          2257         489     565   \n",
       "3         2975         1390        1782           823        2535     631   \n",
       "4         2168         1951        1037          2726         495    1184   \n",
       "\n",
       "   IncomeErr  IncomePerCap  IncomePerCapErr  \n",
       "0       1638          1708             1638  \n",
       "1        783           565              783  \n",
       "2       1915          1552              135  \n",
       "3       1074          1523             2177  \n",
       "4        905           190              382  \n",
       "\n",
       "[5 rows x 30 columns]"
      ],
      "text/html": "<div>\n<style scoped>\n    .dataframe tbody tr th:only-of-type {\n        vertical-align: middle;\n    }\n\n    .dataframe tbody tr th {\n        vertical-align: top;\n    }\n\n    .dataframe thead th {\n        text-align: right;\n    }\n</style>\n<table border=\"1\" class=\"dataframe\">\n  <thead>\n    <tr style=\"text-align: right;\">\n      <th></th>\n      <th>Mean_x</th>\n      <th>Median_x</th>\n      <th>Stdev_x</th>\n      <th>Mean_y</th>\n      <th>Median_y</th>\n      <th>Stdev_y</th>\n      <th>population</th>\n      <th>Poverty</th>\n      <th>Diversity</th>\n      <th>Employment</th>\n      <th>...</th>\n      <th>WorkAtHome</th>\n      <th>MeanCommute</th>\n      <th>PrivateWork</th>\n      <th>PublicWork</th>\n      <th>SelfEmployed</th>\n      <th>FamilyWork</th>\n      <th>Income</th>\n      <th>IncomeErr</th>\n      <th>IncomePerCap</th>\n      <th>IncomePerCapErr</th>\n    </tr>\n  </thead>\n  <tbody>\n    <tr>\n      <th>0</th>\n      <td>72647.000000</td>\n      <td>80209.000000</td>\n      <td>46242.000000</td>\n      <td>72647.000000</td>\n      <td>80209.000000</td>\n      <td>46242.000000</td>\n      <td>1029028</td>\n      <td>67.7</td>\n      <td>5060.57</td>\n      <td>1593338.16</td>\n      <td>...</td>\n      <td>690</td>\n      <td>20</td>\n      <td>2480</td>\n      <td>180</td>\n      <td>115</td>\n      <td>2302</td>\n      <td>1550</td>\n      <td>1638</td>\n      <td>1708</td>\n      <td>1638</td>\n    </tr>\n    <tr>\n      <th>1</th>\n      <td>51258.923077</td>\n      <td>79425.538462</td>\n      <td>38462.769231</td>\n      <td>51258.923077</td>\n      <td>79425.538462</td>\n      <td>38462.769231</td>\n      <td>5365712</td>\n      <td>60.6</td>\n      <td>4511.59</td>\n      <td>3691277.68</td>\n      <td>...</td>\n      <td>1739</td>\n      <td>2523</td>\n      <td>1528</td>\n      <td>2025</td>\n      <td>1637</td>\n      <td>1000</td>\n      <td>1708</td>\n      <td>783</td>\n      <td>565</td>\n      <td>783</td>\n    </tr>\n    <tr>\n      <th>2</th>\n      <td>109797.000000</td>\n      <td>300000.000000</td>\n      <td>57646.500000</td>\n      <td>109797.000000</td>\n      <td>300000.000000</td>\n      <td>57646.500000</td>\n      <td>1299364</td>\n      <td>31.4</td>\n      <td>4966.20</td>\n      <td>7738510.08</td>\n      <td>...</td>\n      <td>1000</td>\n      <td>871</td>\n      <td>714</td>\n      <td>2506</td>\n      <td>2257</td>\n      <td>489</td>\n      <td>565</td>\n      <td>1915</td>\n      <td>1552</td>\n      <td>135</td>\n    </tr>\n    <tr>\n      <th>3</th>\n      <td>60952.500000</td>\n      <td>47182.500000</td>\n      <td>54058.000000</td>\n      <td>60952.500000</td>\n      <td>47182.500000</td>\n      <td>54058.000000</td>\n      <td>1152008</td>\n      <td>47.0</td>\n      <td>5841.56</td>\n      <td>1486344.08</td>\n      <td>...</td>\n      <td>115</td>\n      <td>2975</td>\n      <td>1390</td>\n      <td>1782</td>\n      <td>823</td>\n      <td>2535</td>\n      <td>631</td>\n      <td>1074</td>\n      <td>1523</td>\n      <td>2177</td>\n    </tr>\n    <tr>\n      <th>4</th>\n      <td>51340.500000</td>\n      <td>48046.500000</td>\n      <td>37181.500000</td>\n      <td>51340.500000</td>\n      <td>48046.500000</td>\n      <td>37181.500000</td>\n      <td>94556</td>\n      <td>57.6</td>\n      <td>5716.26</td>\n      <td>1807795.60</td>\n      <td>...</td>\n      <td>2019</td>\n      <td>2168</td>\n      <td>1951</td>\n      <td>1037</td>\n      <td>2726</td>\n      <td>495</td>\n      <td>1184</td>\n      <td>905</td>\n      <td>190</td>\n      <td>382</td>\n    </tr>\n  </tbody>\n</table>\n<p>5 rows × 30 columns</p>\n</div>"
     },
     "metadata": {},
     "execution_count": 161
    }
   ],
   "source": [
    "City_State_df = total_df[['City','State']]\n",
    "Number_df = total_df.drop(['City',\n",
    "'State'], axis = 1)\n",
    "Number_df.head()"
   ]
  }
 ]
}