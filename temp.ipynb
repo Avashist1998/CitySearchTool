{
 "metadata": {
  "language_info": {
   "codemirror_mode": {
    "name": "ipython",
    "version": 3
   },
   "file_extension": ".py",
   "mimetype": "text/x-python",
   "name": "python",
   "nbconvert_exporter": "python",
   "pygments_lexer": "ipython3",
   "version": "3.8.5-final"
  },
  "orig_nbformat": 2,
  "kernelspec": {
   "name": "Python 3.8.5 64-bit ('env')",
   "display_name": "Python 3.8.5 64-bit ('env')",
   "metadata": {
    "interpreter": {
     "hash": "fea42c37dbe6ba0665458ed7e2e875da28de3f92681278c30161c85f738cbbf3"
    }
   }
  }
 },
 "nbformat": 4,
 "nbformat_minor": 2,
 "cells": [
  {
   "source": [
    "## Importing Libraries"
   ],
   "cell_type": "markdown",
   "metadata": {}
  },
  {
   "cell_type": "code",
   "execution_count": 4,
   "metadata": {},
   "outputs": [],
   "source": [
    "import os\n",
    "import numpy as np\n",
    "import pandas as pd\n",
    "from pyzipcode import ZipCodeDatabase\n",
    "import matplotlib as plt"
   ]
  },
  {
   "source": [
    "## Path Defination and Data Importation"
   ],
   "cell_type": "markdown",
   "metadata": {}
  },
  {
   "cell_type": "code",
   "execution_count": 10,
   "metadata": {},
   "outputs": [],
   "source": [
    "\n",
    "data_path = os.path.join(os.getcwd(), \"data\")\n",
    "Filtered_data_path = os.path.join(data_path,\"Filtered_data\")\n",
    "Raw_data_path = os.path.join(data_path, 'Raw_data')\n",
    "\n",
    "# Importing Raw Data\n",
    "# pop_path = os.path.join(Raw_data_path, \"population_by_zip_2010.csv\")\n",
    "# income_path = os.path.join(Raw_data_path, \"kaggle_income.csv\")\n",
    "# div_path = os.path.join(Raw_data_path, \"population.csv\")\n",
    "\n",
    "# Importing Filtered DataFrames\n",
    "Poverty_df = pd.read_csv(os.path.join(Filtered_data_path,'Poverty_df.csv'))\n",
    "Industry_df = pd.read_csv(os.path.join(Filtered_data_path,'Industry_df.csv'))\n",
    "Diversity_df = pd.read_csv(os.path.join(Filtered_data_path,'Diversity_df.csv'))\n",
    "Employment_df = pd.read_csv(os.path.join(Filtered_data_path,'Employment_df.csv'))\n",
    "Transportation_df = pd.read_csv(os.path.join(Filtered_data_path,'Transportation_df.csv'))\n",
    "Employment_ratio_df = pd.read_csv(os.path.join(Filtered_data_path,'Employment_ratio_df.csv'))\n",
    "Income_per_capita_df = pd.read_csv(os.path.join(Filtered_data_path,'Income_per_capita_df.csv'))"
   ]
  },
  {
   "cell_type": "code",
   "execution_count": 3,
   "metadata": {},
   "outputs": [],
   "source": []
  },
  {
   "cell_type": "code",
   "execution_count": null,
   "metadata": {},
   "outputs": [],
   "source": [
    "\n"
   ]
  }
 ]
}