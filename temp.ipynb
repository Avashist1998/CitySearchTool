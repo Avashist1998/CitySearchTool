{
 "metadata": {
  "language_info": {
   "codemirror_mode": {
    "name": "ipython",
    "version": 3
   },
   "file_extension": ".py",
   "mimetype": "text/x-python",
   "name": "python",
   "nbconvert_exporter": "python",
   "pygments_lexer": "ipython3",
   "version": "3.8.5-final"
  },
  "orig_nbformat": 2,
  "kernelspec": {
   "name": "Python 3.8.5 64-bit ('env')",
   "display_name": "Python 3.8.5 64-bit ('env')",
   "metadata": {
    "interpreter": {
     "hash": "fea42c37dbe6ba0665458ed7e2e875da28de3f92681278c30161c85f738cbbf3"
    }
   }
  }
 },
 "nbformat": 4,
 "nbformat_minor": 2,
 "cells": [
  {
   "source": [
    "## Importing Libraries"
   ],
   "cell_type": "markdown",
   "metadata": {}
  },
  {
   "cell_type": "code",
   "execution_count": 1,
   "metadata": {},
   "outputs": [],
   "source": [
    "import os\n",
    "import numpy as np\n",
    "import pandas as pd\n",
    "from pyzipcode import ZipCodeDatabase\n",
    "import matplotlib as plt"
   ]
  },
  {
   "source": [
    "## Path Defination and Data Importation"
   ],
   "cell_type": "markdown",
   "metadata": {}
  },
  {
   "cell_type": "code",
   "execution_count": 2,
   "metadata": {},
   "outputs": [],
   "source": [
    "\n",
    "data_path = os.path.join(os.getcwd(), \"data\")\n",
    "Filtered_data_path = os.path.join(data_path,\"Filtered_data\")\n",
    "Raw_data_path = os.path.join(data_path, 'Raw_data')\n",
    "\n",
    "# Importing Raw Data\n",
    "# pop_path = os.path.join(Raw_data_path, \"population_by_zip_2010.csv\")\n",
    "# income_path = os.path.join(Raw_data_path, \"kaggle_income.csv\")\n",
    "# div_path = os.path.join(Raw_data_path, \"population.csv\")\n",
    "\n",
    "# Importing Filtered DataFrames\n",
    "Poverty_df = pd.read_csv(os.path.join(Filtered_data_path,'Poverty_df.csv'))\n",
    "Industry_df = pd.read_csv(os.path.join(Filtered_data_path,'Industry_df.csv'))\n",
    "Diversity_df = pd.read_csv(os.path.join(Filtered_data_path,'Diversity_df.csv'))\n",
    "Employment_df = pd.read_csv(os.path.join(Filtered_data_path,'Employment_df.csv'))\n",
    "Transportation_df = pd.read_csv(os.path.join(Filtered_data_path,'Transportation_df.csv'))\n",
    "Employment_ratio_df = pd.read_csv(os.path.join(Filtered_data_path,'Employment_ratio_df.csv'))\n",
    "Income_per_capita_df = pd.read_csv(os.path.join(Filtered_data_path,'Income_per_capita_df.csv'))"
   ]
  },
  {
   "cell_type": "code",
   "execution_count": 15,
   "metadata": {},
   "outputs": [],
   "source": [
    "LOCALPATH = os.getcwd()\n",
    "DATAPATH = os.path.join(LOCALPATH,\"data\")\n",
    "FILTERPATH = os.path.join(DATAPATH,\"Filtered_data\")\n",
    "FINAL_PATH = os.path.join(FILTERPATH,\"final_data.csv\")\n",
    "POP_PATH = os.path.join(FILTERPATH,\"City_based_population.csv\")\n",
    "DIV_PATH = os.path.join(FILTERPATH,\"Diversity_df.csv\")"
   ]
  },
  {
   "cell_type": "code",
   "execution_count": 21,
   "metadata": {},
   "outputs": [],
   "source": [
    "final_df = pd.read_csv(FINAL_PATH)\n",
    "del final_df['Unnamed: 0']\n",
    "final_matrix = final_df[final_df.columns[final_df.columns != 'City']]"
   ]
  },
  {
   "cell_type": "code",
   "execution_count": 22,
   "metadata": {},
   "outputs": [
    {
     "output_type": "execute_result",
     "data": {
      "text/plain": [
       "      Poverty  Diversity  Employment  Professional  Service  Office  \\\n",
       "0        67.7    5060.57  1593338.16           592      225    1358   \n",
       "1        60.6    4511.59  3691277.68            16     2584     960   \n",
       "2        78.4    5403.88  9224854.16          2115     1479      16   \n",
       "3        49.9    4382.25  4057072.00          2394      938     711   \n",
       "4       120.4    5674.52  2804325.04          2433     2325     748   \n",
       "...       ...        ...         ...           ...      ...     ...   \n",
       "2611     82.3    5895.73   308048.00          1603     1571    2556   \n",
       "2612     70.9    3798.27  2477154.48          1571     1209     576   \n",
       "2613     71.1    5872.85   943400.00            20       20      20   \n",
       "2614     41.9    5766.53   213570.64            92     2556    1571   \n",
       "2615     42.7    5847.00   589142.08           897      897     897   \n",
       "\n",
       "      Construction  Production  Drive  Carpool  ...  WorkAtHome  MeanCommute  \\\n",
       "0             1694          95   1694       95  ...         864           16   \n",
       "1              835         288   1714     2106  ...          95         2193   \n",
       "2             1964         835     16     1068  ...        1493          747   \n",
       "3             2197         377   1951      447  ...        1451         2596   \n",
       "4             2109        1566    747     1694  ...        1749         2537   \n",
       "...            ...         ...    ...      ...  ...         ...          ...   \n",
       "2611          1209          20   1068      248  ...         399         2251   \n",
       "2612           576        2067   1740     1168  ...         711          110   \n",
       "2613            20        1007    298      638  ...        2325          463   \n",
       "2614          1571        1571   1868      923  ...        1335          326   \n",
       "2615           897         897     95     2179  ...        1566          671   \n",
       "\n",
       "      PrivateWork  PublicWork  SelfEmployed  FamilyWork  Income  IncomeErr  \\\n",
       "0            2152         145            95        1993       7       1412   \n",
       "1            1315        1735          1411         638    1337        663   \n",
       "2             605        2179          1951        2027    1471       1637   \n",
       "3            1199        1535           699         640     476       1875   \n",
       "4            1583         848          2197        2023     532       1220   \n",
       "...           ...         ...           ...         ...     ...        ...   \n",
       "2611          763         747          2552        2377    1567        169   \n",
       "2612          896        1583           748        2117     826       2596   \n",
       "2613         2198        2152          2384        2384    1113        225   \n",
       "2614         1836        1669          1566        1353     441       1034   \n",
       "2615         1535        1315          1617         313     835        175   \n",
       "\n",
       "      IncomePerCap  IncomePerCapErr  \n",
       "0             1471             1412  \n",
       "1              476              663  \n",
       "2             1339              110  \n",
       "3             1310             1875  \n",
       "4              532             1637  \n",
       "...            ...              ...  \n",
       "2611          2109              108  \n",
       "2612           108              150  \n",
       "2613          2113             2161  \n",
       "2614          1694             2600  \n",
       "2615           835             1758  \n",
       "\n",
       "[2616 rows x 23 columns]"
      ],
      "text/html": "<div>\n<style scoped>\n    .dataframe tbody tr th:only-of-type {\n        vertical-align: middle;\n    }\n\n    .dataframe tbody tr th {\n        vertical-align: top;\n    }\n\n    .dataframe thead th {\n        text-align: right;\n    }\n</style>\n<table border=\"1\" class=\"dataframe\">\n  <thead>\n    <tr style=\"text-align: right;\">\n      <th></th>\n      <th>Poverty</th>\n      <th>Diversity</th>\n      <th>Employment</th>\n      <th>Professional</th>\n      <th>Service</th>\n      <th>Office</th>\n      <th>Construction</th>\n      <th>Production</th>\n      <th>Drive</th>\n      <th>Carpool</th>\n      <th>...</th>\n      <th>WorkAtHome</th>\n      <th>MeanCommute</th>\n      <th>PrivateWork</th>\n      <th>PublicWork</th>\n      <th>SelfEmployed</th>\n      <th>FamilyWork</th>\n      <th>Income</th>\n      <th>IncomeErr</th>\n      <th>IncomePerCap</th>\n      <th>IncomePerCapErr</th>\n    </tr>\n  </thead>\n  <tbody>\n    <tr>\n      <th>0</th>\n      <td>67.7</td>\n      <td>5060.57</td>\n      <td>1593338.16</td>\n      <td>592</td>\n      <td>225</td>\n      <td>1358</td>\n      <td>1694</td>\n      <td>95</td>\n      <td>1694</td>\n      <td>95</td>\n      <td>...</td>\n      <td>864</td>\n      <td>16</td>\n      <td>2152</td>\n      <td>145</td>\n      <td>95</td>\n      <td>1993</td>\n      <td>7</td>\n      <td>1412</td>\n      <td>1471</td>\n      <td>1412</td>\n    </tr>\n    <tr>\n      <th>1</th>\n      <td>60.6</td>\n      <td>4511.59</td>\n      <td>3691277.68</td>\n      <td>16</td>\n      <td>2584</td>\n      <td>960</td>\n      <td>835</td>\n      <td>288</td>\n      <td>1714</td>\n      <td>2106</td>\n      <td>...</td>\n      <td>95</td>\n      <td>2193</td>\n      <td>1315</td>\n      <td>1735</td>\n      <td>1411</td>\n      <td>638</td>\n      <td>1337</td>\n      <td>663</td>\n      <td>476</td>\n      <td>663</td>\n    </tr>\n    <tr>\n      <th>2</th>\n      <td>78.4</td>\n      <td>5403.88</td>\n      <td>9224854.16</td>\n      <td>2115</td>\n      <td>1479</td>\n      <td>16</td>\n      <td>1964</td>\n      <td>835</td>\n      <td>16</td>\n      <td>1068</td>\n      <td>...</td>\n      <td>1493</td>\n      <td>747</td>\n      <td>605</td>\n      <td>2179</td>\n      <td>1951</td>\n      <td>2027</td>\n      <td>1471</td>\n      <td>1637</td>\n      <td>1339</td>\n      <td>110</td>\n    </tr>\n    <tr>\n      <th>3</th>\n      <td>49.9</td>\n      <td>4382.25</td>\n      <td>4057072.00</td>\n      <td>2394</td>\n      <td>938</td>\n      <td>711</td>\n      <td>2197</td>\n      <td>377</td>\n      <td>1951</td>\n      <td>447</td>\n      <td>...</td>\n      <td>1451</td>\n      <td>2596</td>\n      <td>1199</td>\n      <td>1535</td>\n      <td>699</td>\n      <td>640</td>\n      <td>476</td>\n      <td>1875</td>\n      <td>1310</td>\n      <td>1875</td>\n    </tr>\n    <tr>\n      <th>4</th>\n      <td>120.4</td>\n      <td>5674.52</td>\n      <td>2804325.04</td>\n      <td>2433</td>\n      <td>2325</td>\n      <td>748</td>\n      <td>2109</td>\n      <td>1566</td>\n      <td>747</td>\n      <td>1694</td>\n      <td>...</td>\n      <td>1749</td>\n      <td>2537</td>\n      <td>1583</td>\n      <td>848</td>\n      <td>2197</td>\n      <td>2023</td>\n      <td>532</td>\n      <td>1220</td>\n      <td>532</td>\n      <td>1637</td>\n    </tr>\n    <tr>\n      <th>...</th>\n      <td>...</td>\n      <td>...</td>\n      <td>...</td>\n      <td>...</td>\n      <td>...</td>\n      <td>...</td>\n      <td>...</td>\n      <td>...</td>\n      <td>...</td>\n      <td>...</td>\n      <td>...</td>\n      <td>...</td>\n      <td>...</td>\n      <td>...</td>\n      <td>...</td>\n      <td>...</td>\n      <td>...</td>\n      <td>...</td>\n      <td>...</td>\n      <td>...</td>\n      <td>...</td>\n    </tr>\n    <tr>\n      <th>2611</th>\n      <td>82.3</td>\n      <td>5895.73</td>\n      <td>308048.00</td>\n      <td>1603</td>\n      <td>1571</td>\n      <td>2556</td>\n      <td>1209</td>\n      <td>20</td>\n      <td>1068</td>\n      <td>248</td>\n      <td>...</td>\n      <td>399</td>\n      <td>2251</td>\n      <td>763</td>\n      <td>747</td>\n      <td>2552</td>\n      <td>2377</td>\n      <td>1567</td>\n      <td>169</td>\n      <td>2109</td>\n      <td>108</td>\n    </tr>\n    <tr>\n      <th>2612</th>\n      <td>70.9</td>\n      <td>3798.27</td>\n      <td>2477154.48</td>\n      <td>1571</td>\n      <td>1209</td>\n      <td>576</td>\n      <td>576</td>\n      <td>2067</td>\n      <td>1740</td>\n      <td>1168</td>\n      <td>...</td>\n      <td>711</td>\n      <td>110</td>\n      <td>896</td>\n      <td>1583</td>\n      <td>748</td>\n      <td>2117</td>\n      <td>826</td>\n      <td>2596</td>\n      <td>108</td>\n      <td>150</td>\n    </tr>\n    <tr>\n      <th>2613</th>\n      <td>71.1</td>\n      <td>5872.85</td>\n      <td>943400.00</td>\n      <td>20</td>\n      <td>20</td>\n      <td>20</td>\n      <td>20</td>\n      <td>1007</td>\n      <td>298</td>\n      <td>638</td>\n      <td>...</td>\n      <td>2325</td>\n      <td>463</td>\n      <td>2198</td>\n      <td>2152</td>\n      <td>2384</td>\n      <td>2384</td>\n      <td>1113</td>\n      <td>225</td>\n      <td>2113</td>\n      <td>2161</td>\n    </tr>\n    <tr>\n      <th>2614</th>\n      <td>41.9</td>\n      <td>5766.53</td>\n      <td>213570.64</td>\n      <td>92</td>\n      <td>2556</td>\n      <td>1571</td>\n      <td>1571</td>\n      <td>1571</td>\n      <td>1868</td>\n      <td>923</td>\n      <td>...</td>\n      <td>1335</td>\n      <td>326</td>\n      <td>1836</td>\n      <td>1669</td>\n      <td>1566</td>\n      <td>1353</td>\n      <td>441</td>\n      <td>1034</td>\n      <td>1694</td>\n      <td>2600</td>\n    </tr>\n    <tr>\n      <th>2615</th>\n      <td>42.7</td>\n      <td>5847.00</td>\n      <td>589142.08</td>\n      <td>897</td>\n      <td>897</td>\n      <td>897</td>\n      <td>897</td>\n      <td>897</td>\n      <td>95</td>\n      <td>2179</td>\n      <td>...</td>\n      <td>1566</td>\n      <td>671</td>\n      <td>1535</td>\n      <td>1315</td>\n      <td>1617</td>\n      <td>313</td>\n      <td>835</td>\n      <td>175</td>\n      <td>835</td>\n      <td>1758</td>\n    </tr>\n  </tbody>\n</table>\n<p>2616 rows × 23 columns</p>\n</div>"
     },
     "metadata": {},
     "execution_count": 22
    }
   ],
   "source": [
    "final_matrix"
   ]
  },
  {
   "cell_type": "code",
   "execution_count": 23,
   "metadata": {},
   "outputs": [],
   "source": [
    "weights = [1]*23"
   ]
  },
  {
   "cell_type": "code",
   "execution_count": 25,
   "metadata": {},
   "outputs": [],
   "source": [
    "from sklearn.preprocessing import StandardScaler\n",
    "final_matrix = final_df[final_df.columns[final_df.columns != 'City']]\n",
    "scaler = StandardScaler()\n",
    "scaled_matrix = scaler.fit_transform(final_matrix)\n",
    "    \n",
    "weights = [1]*23\n",
    "ranking_vector = np.dot(scaled_matrix, weights)\n",
    "ranking_vector = np.argsort(ranking_vector)"
   ]
  },
  {
   "cell_type": "code",
   "execution_count": 5,
   "metadata": {},
   "outputs": [
    {
     "output_type": "execute_result",
     "data": {
      "text/plain": [
       "         City  population  minimum_age  maximum_age\n",
       "0  Aaronsburg        8495          0.0         84.0\n",
       "1   Abbeville       39509          0.0         84.0\n",
       "2       Abbot        7639          0.0         79.0\n",
       "3  Abbotsford        7711          0.0         84.0\n",
       "4      Abbott        7945          5.0         84.0"
      ],
      "text/html": "<div>\n<style scoped>\n    .dataframe tbody tr th:only-of-type {\n        vertical-align: middle;\n    }\n\n    .dataframe tbody tr th {\n        vertical-align: top;\n    }\n\n    .dataframe thead th {\n        text-align: right;\n    }\n</style>\n<table border=\"1\" class=\"dataframe\">\n  <thead>\n    <tr style=\"text-align: right;\">\n      <th></th>\n      <th>City</th>\n      <th>population</th>\n      <th>minimum_age</th>\n      <th>maximum_age</th>\n    </tr>\n  </thead>\n  <tbody>\n    <tr>\n      <th>0</th>\n      <td>Aaronsburg</td>\n      <td>8495</td>\n      <td>0.0</td>\n      <td>84.0</td>\n    </tr>\n    <tr>\n      <th>1</th>\n      <td>Abbeville</td>\n      <td>39509</td>\n      <td>0.0</td>\n      <td>84.0</td>\n    </tr>\n    <tr>\n      <th>2</th>\n      <td>Abbot</td>\n      <td>7639</td>\n      <td>0.0</td>\n      <td>79.0</td>\n    </tr>\n    <tr>\n      <th>3</th>\n      <td>Abbotsford</td>\n      <td>7711</td>\n      <td>0.0</td>\n      <td>84.0</td>\n    </tr>\n    <tr>\n      <th>4</th>\n      <td>Abbott</td>\n      <td>7945</td>\n      <td>5.0</td>\n      <td>84.0</td>\n    </tr>\n  </tbody>\n</table>\n</div>"
     },
     "metadata": {},
     "execution_count": 5
    }
   ],
   "source": [
    "pop_df = pd.read_csv(POP_PATH)\n",
    "pop_df.head()"
   ]
  },
  {
   "cell_type": "code",
   "execution_count": 22,
   "metadata": {},
   "outputs": [],
   "source": [
    "list_A = list(pop_df['City'].values)"
   ]
  },
  {
   "cell_type": "code",
   "execution_count": 64,
   "metadata": {},
   "outputs": [
    {
     "output_type": "execute_result",
     "data": {
      "text/plain": [
       "        City  Hispanic  White  Black  Native  Asian  Pacific\n",
       "0   Aberdeen       9.6  80.10   1.10     4.0    1.5      0.4\n",
       "1    Abilene      23.2  65.60   7.20     0.4    1.7      0.0\n",
       "2   Abingdon       2.7  86.60   7.15     0.1    1.7      0.0\n",
       "3  Adams Run       4.8  65.10  25.20     0.5    1.7      0.1\n",
       "4    Addison       1.5  92.75   1.55     2.3    0.4      0.0"
      ],
      "text/html": "<div>\n<style scoped>\n    .dataframe tbody tr th:only-of-type {\n        vertical-align: middle;\n    }\n\n    .dataframe tbody tr th {\n        vertical-align: top;\n    }\n\n    .dataframe thead th {\n        text-align: right;\n    }\n</style>\n<table border=\"1\" class=\"dataframe\">\n  <thead>\n    <tr style=\"text-align: right;\">\n      <th></th>\n      <th>City</th>\n      <th>Hispanic</th>\n      <th>White</th>\n      <th>Black</th>\n      <th>Native</th>\n      <th>Asian</th>\n      <th>Pacific</th>\n    </tr>\n  </thead>\n  <tbody>\n    <tr>\n      <th>0</th>\n      <td>Aberdeen</td>\n      <td>9.6</td>\n      <td>80.10</td>\n      <td>1.10</td>\n      <td>4.0</td>\n      <td>1.5</td>\n      <td>0.4</td>\n    </tr>\n    <tr>\n      <th>1</th>\n      <td>Abilene</td>\n      <td>23.2</td>\n      <td>65.60</td>\n      <td>7.20</td>\n      <td>0.4</td>\n      <td>1.7</td>\n      <td>0.0</td>\n    </tr>\n    <tr>\n      <th>2</th>\n      <td>Abingdon</td>\n      <td>2.7</td>\n      <td>86.60</td>\n      <td>7.15</td>\n      <td>0.1</td>\n      <td>1.7</td>\n      <td>0.0</td>\n    </tr>\n    <tr>\n      <th>3</th>\n      <td>Adams Run</td>\n      <td>4.8</td>\n      <td>65.10</td>\n      <td>25.20</td>\n      <td>0.5</td>\n      <td>1.7</td>\n      <td>0.1</td>\n    </tr>\n    <tr>\n      <th>4</th>\n      <td>Addison</td>\n      <td>1.5</td>\n      <td>92.75</td>\n      <td>1.55</td>\n      <td>2.3</td>\n      <td>0.4</td>\n      <td>0.0</td>\n    </tr>\n  </tbody>\n</table>\n</div>"
     },
     "metadata": {},
     "execution_count": 64
    }
   ],
   "source": [
    "div_df = pd.read_csv(DIV_PATH)\n",
    "div_df.head()"
   ]
  },
  {
   "cell_type": "code",
   "execution_count": 25,
   "metadata": {},
   "outputs": [],
   "source": [
    "list_b = list(div_df['City'].values)"
   ]
  },
  {
   "cell_type": "code",
   "execution_count": 68,
   "metadata": {},
   "outputs": [
    {
     "output_type": "execute_result",
     "data": {
      "text/plain": [
       "array(['Aberdeen', 9.6, 80.1, 1.1, 4.0, 1.5, 0.4], dtype=object)"
      ]
     },
     "metadata": {},
     "execution_count": 68
    }
   ],
   "source": []
  },
  {
   "cell_type": "code",
   "execution_count": 48,
   "metadata": {},
   "outputs": [
    {
     "output_type": "execute_result",
     "data": {
      "text/plain": [
       "array(['Aiken', 2.3, 51.4, 44.8, 0.3, 0.7, 0.0], dtype=object)"
      ]
     },
     "metadata": {},
     "execution_count": 48
    }
   ],
   "source": [
    "div_df"
   ]
  },
  {
   "cell_type": "code",
   "execution_count": 72,
   "metadata": {},
   "outputs": [],
   "source": [
    "div_data = (div_df[div_df['City'] == 'Aberdeen'])"
   ]
  },
  {
   "cell_type": "code",
   "execution_count": 61,
   "metadata": {},
   "outputs": [
    {
     "output_type": "execute_result",
     "data": {
      "text/plain": [
       "0        Aberdeen\n",
       "1         Abilene\n",
       "2        Abingdon\n",
       "3       Adams Run\n",
       "4         Addison\n",
       "          ...    \n",
       "2588        Zalma\n",
       "2589      Zebulon\n",
       "2590      Zeigler\n",
       "2591        Zenda\n",
       "2592      Zwingle\n",
       "Name: City, Length: 2593, dtype: object"
      ]
     },
     "metadata": {},
     "execution_count": 61
    }
   ],
   "source": [
    "div_data"
   ]
  },
  {
   "cell_type": "code",
   "execution_count": 60,
   "metadata": {},
   "outputs": [
    {
     "output_type": "execute_result",
     "data": {
      "text/plain": [
       "(17404, 4)"
      ]
     },
     "metadata": {},
     "execution_count": 60
    }
   ],
   "source": [
    "pop_df.shape"
   ]
  },
  {
   "cell_type": "code",
   "execution_count": 80,
   "metadata": {},
   "outputs": [
    {
     "output_type": "execute_result",
     "data": {
      "text/plain": [
       "([<matplotlib.patches.Wedge at 0x120905610>,\n",
       "  <matplotlib.patches.Wedge at 0x120b43fd0>,\n",
       "  <matplotlib.patches.Wedge at 0x120b43160>,\n",
       "  <matplotlib.patches.Wedge at 0x120b43700>],\n",
       " [Text(1.0448021340943485, 0.34407630053796956, 'Hispanic'),\n",
       "  Text(-1.0877913816097753, -0.16343166797012237, 'White'),\n",
       "  Text(1.050359722487441, -0.3267176967599187, 'Black'),\n",
       "  Text(1.090349974583638, -0.14538546325358606, 'Native')])"
      ]
     },
     "metadata": {},
     "execution_count": 80
    },
    {
     "output_type": "display_data",
     "data": {
      "text/plain": "<Figure size 576x396 with 1 Axes>",
      "image/svg+xml": "<?xml version=\"1.0\" encoding=\"utf-8\" standalone=\"no\"?>\n<!DOCTYPE svg PUBLIC \"-//W3C//DTD SVG 1.1//EN\"\n  \"http://www.w3.org/Graphics/SVG/1.1/DTD/svg11.dtd\">\n<!-- Created with matplotlib (https://matplotlib.org/) -->\n<svg height=\"313.38pt\" version=\"1.1\" viewBox=\"0 0 333.350499 313.38\" width=\"333.350499pt\" xmlns=\"http://www.w3.org/2000/svg\" xmlns:xlink=\"http://www.w3.org/1999/xlink\">\n <metadata>\n  <rdf:RDF xmlns:cc=\"http://creativecommons.org/ns#\" xmlns:dc=\"http://purl.org/dc/elements/1.1/\" xmlns:rdf=\"http://www.w3.org/1999/02/22-rdf-syntax-ns#\">\n   <cc:Work>\n    <dc:type rdf:resource=\"http://purl.org/dc/dcmitype/StillImage\"/>\n    <dc:date>2020-10-18T09:25:05.882652</dc:date>\n    <dc:format>image/svg+xml</dc:format>\n    <dc:creator>\n     <cc:Agent>\n      <dc:title>Matplotlib v3.3.2, https://matplotlib.org/</dc:title>\n     </cc:Agent>\n    </dc:creator>\n   </cc:Work>\n  </rdf:RDF>\n </metadata>\n <defs>\n  <style type=\"text/css\">*{stroke-linecap:butt;stroke-linejoin:round;}</style>\n </defs>\n <g id=\"figure_1\">\n  <g id=\"patch_1\">\n   <path d=\"M 0 313.38 \nL 333.350499 313.38 \nL 333.350499 0 \nL 0 0 \nz\n\" style=\"fill:#ffffff;\"/>\n  </g>\n  <g id=\"axes_1\">\n   <g id=\"matplotlib.axis_1\"/>\n   <g id=\"matplotlib.axis_2\"/>\n   <g id=\"patch_2\">\n    <path d=\"M 282.444084 156.69 \nC 282.444084 143.981146 280.418259 131.35315 276.442972 119.282025 \nC 272.467686 107.210899 266.593522 95.850246 259.041907 85.628305 \nL 162.852084 156.69 \nL 282.444084 156.69 \nz\n\" style=\"fill:#4c72b0;\"/>\n   </g>\n   <g id=\"patch_3\">\n    <path d=\"M 259.041907 85.628305 \nC 251.164361 74.96518 241.568271 65.685789 230.646879 58.170396 \nC 219.725486 50.655003 207.630039 45.007686 194.8562 41.459869 \nC 182.082362 37.912052 168.807035 36.512868 155.574233 37.319655 \nC 142.341431 38.126441 129.334413 41.128025 117.086197 46.201403 \nC 104.837981 51.274782 93.518192 58.349694 83.590705 67.136216 \nC 73.663219 75.922738 65.265519 86.299185 58.741739 97.84034 \nC 52.217959 109.381495 47.658445 121.927524 45.250042 134.964301 \nC 42.841639 148.001078 42.617701 161.348057 44.587405 174.458291 \nC 46.55711 187.568524 50.693178 200.260449 56.826116 212.01396 \nC 62.959055 223.767471 71.00393 234.419795 80.631069 243.534407 \nC 90.258208 252.64902 101.334285 260.099694 113.40541 265.581106 \nC 125.476536 271.062518 138.375539 274.498757 151.573828 275.749008 \nC 164.772117 276.999259 178.08691 276.046209 190.972577 272.928911 \nC 203.858244 269.811613 216.136332 264.573239 227.303696 257.428455 \nC 238.47106 250.28367 248.373042 241.331421 256.603869 230.938565 \nC 264.834695 220.545709 271.280377 208.856175 275.676775 196.348992 \nL 162.852084 156.69 \nL 259.041907 85.628305 \nz\n\" style=\"fill:#55a868;\"/>\n   </g>\n   <g id=\"patch_4\">\n    <path d=\"M 275.676775 196.348992 \nC 276.158686 194.978018 276.615568 193.598374 277.047193 192.210748 \nC 277.478819 190.823122 277.885116 189.427743 278.265883 188.025309 \nL 162.852084 156.69 \nL 275.676775 196.348992 \nz\n\" style=\"fill:#c44e52;\"/>\n   </g>\n   <g id=\"patch_5\">\n    <path d=\"M 278.265883 188.025309 \nC 279.650958 182.92382 280.696268 177.736106 281.394934 172.496308 \nC 282.0936 167.25651 282.444085 161.976148 282.444084 156.689976 \nL 162.852084 156.69 \nL 278.265883 188.025309 \nz\n\" style=\"fill:#8172b2;\"/>\n   </g>\n   <g id=\"text_1\">\n    <!-- Hispanic -->\n    <g style=\"fill:#262626;\" transform=\"translate(287.802061 118.126383)scale(0.1 -0.1)\">\n     <defs>\n      <path d=\"M 8.015625 0 \nL 8.015625 71.578125 \nL 17.484375 71.578125 \nL 17.484375 42.1875 \nL 54.6875 42.1875 \nL 54.6875 71.578125 \nL 64.15625 71.578125 \nL 64.15625 0 \nL 54.6875 0 \nL 54.6875 33.734375 \nL 17.484375 33.734375 \nL 17.484375 0 \nz\n\" id=\"ArialMT-72\"/>\n      <path d=\"M 6.640625 61.46875 \nL 6.640625 71.578125 \nL 15.4375 71.578125 \nL 15.4375 61.46875 \nz\nM 6.640625 0 \nL 6.640625 51.859375 \nL 15.4375 51.859375 \nL 15.4375 0 \nz\n\" id=\"ArialMT-105\"/>\n      <path d=\"M 3.078125 15.484375 \nL 11.765625 16.84375 \nQ 12.5 11.625 15.84375 8.84375 \nQ 19.1875 6.0625 25.203125 6.0625 \nQ 31.25 6.0625 34.171875 8.515625 \nQ 37.109375 10.984375 37.109375 14.3125 \nQ 37.109375 17.28125 34.515625 19 \nQ 32.71875 20.171875 25.53125 21.96875 \nQ 15.875 24.421875 12.140625 26.203125 \nQ 8.40625 27.984375 6.46875 31.125 \nQ 4.546875 34.28125 4.546875 38.09375 \nQ 4.546875 41.546875 6.125 44.5 \nQ 7.71875 47.46875 10.453125 49.421875 \nQ 12.5 50.921875 16.03125 51.96875 \nQ 19.578125 53.03125 23.640625 53.03125 \nQ 29.734375 53.03125 34.34375 51.265625 \nQ 38.96875 49.515625 41.15625 46.5 \nQ 43.359375 43.5 44.1875 38.484375 \nL 35.59375 37.3125 \nQ 35.015625 41.3125 32.203125 43.546875 \nQ 29.390625 45.796875 24.265625 45.796875 \nQ 18.21875 45.796875 15.625 43.796875 \nQ 13.03125 41.796875 13.03125 39.109375 \nQ 13.03125 37.40625 14.109375 36.03125 \nQ 15.1875 34.625 17.484375 33.6875 \nQ 18.796875 33.203125 25.25 31.453125 \nQ 34.578125 28.953125 38.25 27.359375 \nQ 41.9375 25.78125 44.03125 22.75 \nQ 46.140625 19.734375 46.140625 15.234375 \nQ 46.140625 10.84375 43.578125 6.953125 \nQ 41.015625 3.078125 36.171875 0.953125 \nQ 31.34375 -1.171875 25.25 -1.171875 \nQ 15.140625 -1.171875 9.84375 3.03125 \nQ 4.546875 7.234375 3.078125 15.484375 \nz\n\" id=\"ArialMT-115\"/>\n      <path d=\"M 6.59375 -19.875 \nL 6.59375 51.859375 \nL 14.59375 51.859375 \nL 14.59375 45.125 \nQ 17.4375 49.078125 21 51.046875 \nQ 24.5625 53.03125 29.640625 53.03125 \nQ 36.28125 53.03125 41.359375 49.609375 \nQ 46.4375 46.1875 49.015625 39.953125 \nQ 51.609375 33.734375 51.609375 26.3125 \nQ 51.609375 18.359375 48.75 11.984375 \nQ 45.90625 5.609375 40.453125 2.21875 \nQ 35.015625 -1.171875 29 -1.171875 \nQ 24.609375 -1.171875 21.109375 0.6875 \nQ 17.625 2.546875 15.375 5.375 \nL 15.375 -19.875 \nz\nM 14.546875 25.640625 \nQ 14.546875 15.625 18.59375 10.84375 \nQ 22.65625 6.0625 28.421875 6.0625 \nQ 34.28125 6.0625 38.453125 11.015625 \nQ 42.625 15.96875 42.625 26.375 \nQ 42.625 36.28125 38.546875 41.203125 \nQ 34.46875 46.140625 28.8125 46.140625 \nQ 23.1875 46.140625 18.859375 40.890625 \nQ 14.546875 35.640625 14.546875 25.640625 \nz\n\" id=\"ArialMT-112\"/>\n      <path d=\"M 40.4375 6.390625 \nQ 35.546875 2.25 31.03125 0.53125 \nQ 26.515625 -1.171875 21.34375 -1.171875 \nQ 12.796875 -1.171875 8.203125 3 \nQ 3.609375 7.171875 3.609375 13.671875 \nQ 3.609375 17.484375 5.34375 20.625 \nQ 7.078125 23.78125 9.890625 25.6875 \nQ 12.703125 27.59375 16.21875 28.5625 \nQ 18.796875 29.25 24.03125 29.890625 \nQ 34.671875 31.15625 39.703125 32.90625 \nQ 39.75 34.71875 39.75 35.203125 \nQ 39.75 40.578125 37.25 42.78125 \nQ 33.890625 45.75 27.25 45.75 \nQ 21.046875 45.75 18.09375 43.578125 \nQ 15.140625 41.40625 13.71875 35.890625 \nL 5.125 37.0625 \nQ 6.296875 42.578125 8.984375 45.96875 \nQ 11.671875 49.359375 16.75 51.1875 \nQ 21.828125 53.03125 28.515625 53.03125 \nQ 35.15625 53.03125 39.296875 51.46875 \nQ 43.453125 49.90625 45.40625 47.53125 \nQ 47.359375 45.171875 48.140625 41.546875 \nQ 48.578125 39.3125 48.578125 33.453125 \nL 48.578125 21.734375 \nQ 48.578125 9.46875 49.140625 6.21875 \nQ 49.703125 2.984375 51.375 0 \nL 42.1875 0 \nQ 40.828125 2.734375 40.4375 6.390625 \nz\nM 39.703125 26.03125 \nQ 34.90625 24.078125 25.34375 22.703125 \nQ 19.921875 21.921875 17.671875 20.9375 \nQ 15.4375 19.96875 14.203125 18.09375 \nQ 12.984375 16.21875 12.984375 13.921875 \nQ 12.984375 10.40625 15.640625 8.0625 \nQ 18.3125 5.71875 23.4375 5.71875 \nQ 28.515625 5.71875 32.46875 7.9375 \nQ 36.421875 10.15625 38.28125 14.015625 \nQ 39.703125 17 39.703125 22.796875 \nz\n\" id=\"ArialMT-97\"/>\n      <path d=\"M 6.59375 0 \nL 6.59375 51.859375 \nL 14.5 51.859375 \nL 14.5 44.484375 \nQ 20.21875 53.03125 31 53.03125 \nQ 35.6875 53.03125 39.625 51.34375 \nQ 43.5625 49.65625 45.515625 46.921875 \nQ 47.46875 44.1875 48.25 40.4375 \nQ 48.734375 37.984375 48.734375 31.890625 \nL 48.734375 0 \nL 39.9375 0 \nL 39.9375 31.546875 \nQ 39.9375 36.921875 38.90625 39.578125 \nQ 37.890625 42.234375 35.28125 43.8125 \nQ 32.671875 45.40625 29.15625 45.40625 \nQ 23.53125 45.40625 19.453125 41.84375 \nQ 15.375 38.28125 15.375 28.328125 \nL 15.375 0 \nz\n\" id=\"ArialMT-110\"/>\n      <path d=\"M 40.4375 19 \nL 49.078125 17.875 \nQ 47.65625 8.9375 41.8125 3.875 \nQ 35.984375 -1.171875 27.484375 -1.171875 \nQ 16.84375 -1.171875 10.375 5.78125 \nQ 3.90625 12.75 3.90625 25.734375 \nQ 3.90625 34.125 6.6875 40.421875 \nQ 9.46875 46.734375 15.15625 49.875 \nQ 20.84375 53.03125 27.546875 53.03125 \nQ 35.984375 53.03125 41.359375 48.75 \nQ 46.734375 44.484375 48.25 36.625 \nL 39.703125 35.296875 \nQ 38.484375 40.53125 35.375 43.15625 \nQ 32.28125 45.796875 27.875 45.796875 \nQ 21.234375 45.796875 17.078125 41.03125 \nQ 12.9375 36.28125 12.9375 25.984375 \nQ 12.9375 15.53125 16.9375 10.796875 \nQ 20.953125 6.0625 27.390625 6.0625 \nQ 32.5625 6.0625 36.03125 9.234375 \nQ 39.5 12.40625 40.4375 19 \nz\n\" id=\"ArialMT-99\"/>\n     </defs>\n     <use xlink:href=\"#ArialMT-72\"/>\n     <use x=\"72.216797\" xlink:href=\"#ArialMT-105\"/>\n     <use x=\"94.433594\" xlink:href=\"#ArialMT-115\"/>\n     <use x=\"144.433594\" xlink:href=\"#ArialMT-112\"/>\n     <use x=\"200.048828\" xlink:href=\"#ArialMT-97\"/>\n     <use x=\"255.664062\" xlink:href=\"#ArialMT-110\"/>\n     <use x=\"311.279297\" xlink:href=\"#ArialMT-105\"/>\n     <use x=\"333.496094\" xlink:href=\"#ArialMT-99\"/>\n    </g>\n   </g>\n   <g id=\"text_2\">\n    <!-- White -->\n    <g style=\"fill:#262626;\" transform=\"translate(7.2 178.820276)scale(0.1 -0.1)\">\n     <defs>\n      <path d=\"M 20.21875 0 \nL 1.21875 71.578125 \nL 10.9375 71.578125 \nL 21.828125 24.65625 \nQ 23.578125 17.28125 24.859375 10.015625 \nQ 27.59375 21.484375 28.078125 23.25 \nL 41.703125 71.578125 \nL 53.125 71.578125 \nL 63.375 35.359375 \nQ 67.234375 21.875 68.953125 10.015625 \nQ 70.3125 16.796875 72.515625 25.59375 \nL 83.734375 71.578125 \nL 93.265625 71.578125 \nL 73.640625 0 \nL 64.5 0 \nL 49.421875 54.546875 \nQ 47.515625 61.375 47.171875 62.9375 \nQ 46.046875 58.015625 45.0625 54.546875 \nL 29.890625 0 \nz\n\" id=\"ArialMT-87\"/>\n      <path d=\"M 6.59375 0 \nL 6.59375 71.578125 \nL 15.375 71.578125 \nL 15.375 45.90625 \nQ 21.53125 53.03125 30.90625 53.03125 \nQ 36.671875 53.03125 40.921875 50.75 \nQ 45.171875 48.484375 47 44.484375 \nQ 48.828125 40.484375 48.828125 32.859375 \nL 48.828125 0 \nL 40.046875 0 \nL 40.046875 32.859375 \nQ 40.046875 39.453125 37.1875 42.453125 \nQ 34.328125 45.453125 29.109375 45.453125 \nQ 25.203125 45.453125 21.75 43.421875 \nQ 18.3125 41.40625 16.84375 37.9375 \nQ 15.375 34.46875 15.375 28.375 \nL 15.375 0 \nz\n\" id=\"ArialMT-104\"/>\n      <path d=\"M 25.78125 7.859375 \nL 27.046875 0.09375 \nQ 23.34375 -0.6875 20.40625 -0.6875 \nQ 15.625 -0.6875 12.984375 0.828125 \nQ 10.359375 2.34375 9.28125 4.8125 \nQ 8.203125 7.28125 8.203125 15.1875 \nL 8.203125 45.015625 \nL 1.765625 45.015625 \nL 1.765625 51.859375 \nL 8.203125 51.859375 \nL 8.203125 64.703125 \nL 16.9375 69.96875 \nL 16.9375 51.859375 \nL 25.78125 51.859375 \nL 25.78125 45.015625 \nL 16.9375 45.015625 \nL 16.9375 14.703125 \nQ 16.9375 10.9375 17.40625 9.859375 \nQ 17.875 8.796875 18.921875 8.15625 \nQ 19.96875 7.515625 21.921875 7.515625 \nQ 23.390625 7.515625 25.78125 7.859375 \nz\n\" id=\"ArialMT-116\"/>\n      <path d=\"M 42.09375 16.703125 \nL 51.171875 15.578125 \nQ 49.03125 7.625 43.21875 3.21875 \nQ 37.40625 -1.171875 28.375 -1.171875 \nQ 17 -1.171875 10.328125 5.828125 \nQ 3.65625 12.84375 3.65625 25.484375 \nQ 3.65625 38.578125 10.390625 45.796875 \nQ 17.140625 53.03125 27.875 53.03125 \nQ 38.28125 53.03125 44.875 45.953125 \nQ 51.46875 38.875 51.46875 26.03125 \nQ 51.46875 25.25 51.421875 23.6875 \nL 12.75 23.6875 \nQ 13.234375 15.140625 17.578125 10.59375 \nQ 21.921875 6.0625 28.421875 6.0625 \nQ 33.25 6.0625 36.671875 8.59375 \nQ 40.09375 11.140625 42.09375 16.703125 \nz\nM 13.234375 30.90625 \nL 42.1875 30.90625 \nQ 41.609375 37.453125 38.875 40.71875 \nQ 34.671875 45.796875 27.984375 45.796875 \nQ 21.921875 45.796875 17.796875 41.75 \nQ 13.671875 37.703125 13.234375 30.90625 \nz\n\" id=\"ArialMT-101\"/>\n     </defs>\n     <use xlink:href=\"#ArialMT-87\"/>\n     <use x=\"94.384766\" xlink:href=\"#ArialMT-104\"/>\n     <use x=\"150\" xlink:href=\"#ArialMT-105\"/>\n     <use x=\"172.216797\" xlink:href=\"#ArialMT-116\"/>\n     <use x=\"200\" xlink:href=\"#ArialMT-101\"/>\n    </g>\n   </g>\n   <g id=\"text_3\">\n    <!-- Black -->\n    <g style=\"fill:#262626;\" transform=\"translate(288.466704 198.347979)scale(0.1 -0.1)\">\n     <defs>\n      <path d=\"M 7.328125 0 \nL 7.328125 71.578125 \nL 34.1875 71.578125 \nQ 42.390625 71.578125 47.34375 69.40625 \nQ 52.296875 67.234375 55.09375 62.71875 \nQ 57.90625 58.203125 57.90625 53.265625 \nQ 57.90625 48.6875 55.421875 44.625 \nQ 52.9375 40.578125 47.90625 38.09375 \nQ 54.390625 36.1875 57.875 31.59375 \nQ 61.375 27 61.375 20.75 \nQ 61.375 15.71875 59.25 11.390625 \nQ 57.125 7.078125 54 4.734375 \nQ 50.875 2.390625 46.15625 1.1875 \nQ 41.453125 0 34.625 0 \nz\nM 16.796875 41.5 \nL 32.28125 41.5 \nQ 38.578125 41.5 41.3125 42.328125 \nQ 44.921875 43.40625 46.75 45.890625 \nQ 48.578125 48.390625 48.578125 52.15625 \nQ 48.578125 55.71875 46.875 58.421875 \nQ 45.171875 61.140625 41.984375 62.140625 \nQ 38.8125 63.140625 31.109375 63.140625 \nL 16.796875 63.140625 \nz\nM 16.796875 8.453125 \nL 34.625 8.453125 \nQ 39.203125 8.453125 41.0625 8.796875 \nQ 44.34375 9.375 46.53125 10.734375 \nQ 48.734375 12.109375 50.140625 14.71875 \nQ 51.5625 17.328125 51.5625 20.75 \nQ 51.5625 24.75 49.515625 27.703125 \nQ 47.46875 30.671875 43.828125 31.859375 \nQ 40.1875 33.0625 33.34375 33.0625 \nL 16.796875 33.0625 \nz\n\" id=\"ArialMT-66\"/>\n      <path d=\"M 6.390625 0 \nL 6.390625 71.578125 \nL 15.1875 71.578125 \nL 15.1875 0 \nz\n\" id=\"ArialMT-108\"/>\n      <path d=\"M 6.640625 0 \nL 6.640625 71.578125 \nL 15.4375 71.578125 \nL 15.4375 30.765625 \nL 36.234375 51.859375 \nL 47.609375 51.859375 \nL 27.78125 32.625 \nL 49.609375 0 \nL 38.765625 0 \nL 21.625 26.515625 \nL 15.4375 20.5625 \nL 15.4375 0 \nz\n\" id=\"ArialMT-107\"/>\n     </defs>\n     <use xlink:href=\"#ArialMT-66\"/>\n     <use x=\"66.699219\" xlink:href=\"#ArialMT-108\"/>\n     <use x=\"88.916016\" xlink:href=\"#ArialMT-97\"/>\n     <use x=\"144.53125\" xlink:href=\"#ArialMT-99\"/>\n     <use x=\"194.53125\" xlink:href=\"#ArialMT-107\"/>\n    </g>\n   </g>\n   <g id=\"text_4\">\n    <!-- Native -->\n    <g style=\"fill:#262626;\" transform=\"translate(293.249219 176.662095)scale(0.1 -0.1)\">\n     <defs>\n      <path d=\"M 7.625 0 \nL 7.625 71.578125 \nL 17.328125 71.578125 \nL 54.9375 15.375 \nL 54.9375 71.578125 \nL 64.015625 71.578125 \nL 64.015625 0 \nL 54.296875 0 \nL 16.703125 56.25 \nL 16.703125 0 \nz\n\" id=\"ArialMT-78\"/>\n      <path d=\"M 21 0 \nL 1.265625 51.859375 \nL 10.546875 51.859375 \nL 21.6875 20.796875 \nQ 23.484375 15.765625 25 10.359375 \nQ 26.171875 14.453125 28.265625 20.21875 \nL 39.796875 51.859375 \nL 48.828125 51.859375 \nL 29.203125 0 \nz\n\" id=\"ArialMT-118\"/>\n     </defs>\n     <use xlink:href=\"#ArialMT-78\"/>\n     <use x=\"72.216797\" xlink:href=\"#ArialMT-97\"/>\n     <use x=\"127.832031\" xlink:href=\"#ArialMT-116\"/>\n     <use x=\"155.615234\" xlink:href=\"#ArialMT-105\"/>\n     <use x=\"177.832031\" xlink:href=\"#ArialMT-118\"/>\n     <use x=\"227.832031\" xlink:href=\"#ArialMT-101\"/>\n    </g>\n   </g>\n  </g>\n </g>\n</svg>\n",
      "image/png": "[encoded data removed]"
     },
     "metadata": {}
    }
   ],
   "source": [
    "plt.style.use(\"seaborn\")\n",
    "plt.pie(div_data.values[0][1:5], labels= div_data.columns[1:5])"
   ]
  },
  {
   "cell_type": "code",
   "execution_count": 77,
   "metadata": {},
   "outputs": [
    {
     "output_type": "execute_result",
     "data": {
      "text/plain": [
       "Index(['City', 'Hispanic', 'White', 'Black', 'Native', 'Asian', 'Pacific'], dtype='object')"
      ]
     },
     "metadata": {},
     "execution_count": 77
    }
   ],
   "source": [
    "div_data.columns"
   ]
  },
  {
   "cell_type": "code",
   "execution_count": null,
   "metadata": {},
   "outputs": [],
   "source": []
  }
 ]
}