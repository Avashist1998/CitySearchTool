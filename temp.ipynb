{
 "metadata": {
  "language_info": {
   "codemirror_mode": {
    "name": "ipython",
    "version": 3
   },
   "file_extension": ".py",
   "mimetype": "text/x-python",
   "name": "python",
   "nbconvert_exporter": "python",
   "pygments_lexer": "ipython3",
   "version": "3.8.5-final"
  },
  "orig_nbformat": 2,
  "kernelspec": {
   "name": "Python 3.8.5 64-bit ('env')",
   "display_name": "Python 3.8.5 64-bit ('env')",
   "metadata": {
    "interpreter": {
     "hash": "fea42c37dbe6ba0665458ed7e2e875da28de3f92681278c30161c85f738cbbf3"
    }
   }
  }
 },
 "nbformat": 4,
 "nbformat_minor": 2,
 "cells": [
  {
   "cell_type": "code",
   "execution_count": 1,
   "metadata": {},
   "outputs": [],
   "source": [
    "import os\n",
    "import pandas \n",
    "import numpy \n",
    "from pyzipcode import ZipCodeDatabase\n",
    "import matplotlib as plt"
   ]
  },
  {
   "cell_type": "code",
   "execution_count": 2,
   "metadata": {},
   "outputs": [],
   "source": [
    "data_path = os.path.join(os.getcwd(), \"data\")\n",
    "pop_path = os.path.join(data_path, \"population_by_zip_2010.csv\")\n",
    "income_path = os.path.join(data_path, \"kaggle_income.csv\")\n",
    "div_path = os.path.join(data_path, \"population.csv\")\n",
    "# c_2_c_path = os.path.join(data_path, \"uscities.csv\")\n",
    "# polution = os.path.join(data_path, \"polution.csv\")"
   ]
  },
  {
   "cell_type": "code",
   "execution_count": 3,
   "metadata": {},
   "outputs": [],
   "source": [
    "pop_df = pandas.read_csv(pop_path, dtype={'zipcode':'category'})\n",
    "div_df = pandas.read_csv(div_path)\n",
    "inc_df = pandas.read_csv(income_path, encoding='latin-1')"
   ]
  },
  {
   "cell_type": "code",
   "execution_count": 4,
   "metadata": {},
   "outputs": [
    {
     "output_type": "execute_result",
     "data": {
      "text/plain": [
       "Index(['population', 'minimum_age', 'maximum_age', 'gender', 'zipcode',\n",
       "       'geo_id'],\n",
       "      dtype='object')"
      ]
     },
     "metadata": {},
     "execution_count": 4
    }
   ],
   "source": [
    "pop_df = pop_df.dropna()\n",
    "pop_df.shape\n",
    "pop_df.columns"
   ]
  },
  {
   "cell_type": "code",
   "execution_count": 5,
   "metadata": {},
   "outputs": [
    {
     "output_type": "execute_result",
     "data": {
      "text/plain": [
       "      CountyId        State               County  TotalPop    Men   Women  \\\n",
       "0         1001      Alabama       Autauga County     55036  26899   28137   \n",
       "1         1003      Alabama       Baldwin County    203360  99527  103833   \n",
       "2         1005      Alabama       Barbour County     26201  13976   12225   \n",
       "3         1007      Alabama          Bibb County     22580  12251   10329   \n",
       "4         1009      Alabama        Blount County     57667  28490   29177   \n",
       "...        ...          ...                  ...       ...    ...     ...   \n",
       "3215     72145  Puerto Rico  Vega Baja Municipio     54754  26269   28485   \n",
       "3216     72147  Puerto Rico    Vieques Municipio      8931   4351    4580   \n",
       "3217     72149  Puerto Rico   Villalba Municipio     23659  11510   12149   \n",
       "3218     72151  Puerto Rico    Yabucoa Municipio     35025  16984   18041   \n",
       "3219     72153  Puerto Rico      Yauco Municipio     37585  18052   19533   \n",
       "\n",
       "      Hispanic  White  Black  Native  ...  Walk  OtherTransp  WorkAtHome  \\\n",
       "0          2.7   75.4   18.9     0.3  ...   0.6          1.3         2.5   \n",
       "1          4.4   83.1    9.5     0.8  ...   0.8          1.1         5.6   \n",
       "2          4.2   45.7   47.8     0.2  ...   2.2          1.7         1.3   \n",
       "3          2.4   74.6   22.0     0.4  ...   0.3          1.7         1.5   \n",
       "4          9.0   87.4    1.5     0.3  ...   0.4          0.4         2.1   \n",
       "...        ...    ...    ...     ...  ...   ...          ...         ...   \n",
       "3215      96.7    3.1    0.1     0.0  ...   1.4          0.6         0.9   \n",
       "3216      95.7    4.0    0.0     0.0  ...   5.0          0.0         1.7   \n",
       "3217      99.7    0.2    0.1     0.0  ...   2.1          0.0         2.8   \n",
       "3218      99.9    0.1    0.0     0.0  ...   1.4          1.8         0.1   \n",
       "3219      99.8    0.2    0.0     0.0  ...   1.7          0.1         5.0   \n",
       "\n",
       "      MeanCommute  Employed  PrivateWork  PublicWork  SelfEmployed  \\\n",
       "0            25.8     24112         74.1        20.2           5.6   \n",
       "1            27.0     89527         80.7        12.9           6.3   \n",
       "2            23.4      8878         74.1        19.1           6.5   \n",
       "3            30.0      8171         76.0        17.4           6.3   \n",
       "4            35.0     21380         83.9        11.9           4.0   \n",
       "...           ...       ...          ...         ...           ...   \n",
       "3215         31.6     14234         76.2        19.3           4.3   \n",
       "3216         14.9      2927         40.7        40.9          18.4   \n",
       "3217         28.4      6873         59.2        30.2          10.4   \n",
       "3218         30.5      7878         62.7        30.9           6.3   \n",
       "3219         24.4      8995         66.4        28.7           5.0   \n",
       "\n",
       "      FamilyWork  Unemployment  \n",
       "0            0.1           5.2  \n",
       "1            0.1           5.5  \n",
       "2            0.3          12.4  \n",
       "3            0.3           8.2  \n",
       "4            0.1           4.9  \n",
       "...          ...           ...  \n",
       "3215         0.2          16.8  \n",
       "3216         0.0          12.8  \n",
       "3217         0.2          24.8  \n",
       "3218         0.0          25.4  \n",
       "3219         0.0          24.0  \n",
       "\n",
       "[3220 rows x 37 columns]"
      ],
      "text/html": "<div>\n<style scoped>\n    .dataframe tbody tr th:only-of-type {\n        vertical-align: middle;\n    }\n\n    .dataframe tbody tr th {\n        vertical-align: top;\n    }\n\n    .dataframe thead th {\n        text-align: right;\n    }\n</style>\n<table border=\"1\" class=\"dataframe\">\n  <thead>\n    <tr style=\"text-align: right;\">\n      <th></th>\n      <th>CountyId</th>\n      <th>State</th>\n      <th>County</th>\n      <th>TotalPop</th>\n      <th>Men</th>\n      <th>Women</th>\n      <th>Hispanic</th>\n      <th>White</th>\n      <th>Black</th>\n      <th>Native</th>\n      <th>...</th>\n      <th>Walk</th>\n      <th>OtherTransp</th>\n      <th>WorkAtHome</th>\n      <th>MeanCommute</th>\n      <th>Employed</th>\n      <th>PrivateWork</th>\n      <th>PublicWork</th>\n      <th>SelfEmployed</th>\n      <th>FamilyWork</th>\n      <th>Unemployment</th>\n    </tr>\n  </thead>\n  <tbody>\n    <tr>\n      <th>0</th>\n      <td>1001</td>\n      <td>Alabama</td>\n      <td>Autauga County</td>\n      <td>55036</td>\n      <td>26899</td>\n      <td>28137</td>\n      <td>2.7</td>\n      <td>75.4</td>\n      <td>18.9</td>\n      <td>0.3</td>\n      <td>...</td>\n      <td>0.6</td>\n      <td>1.3</td>\n      <td>2.5</td>\n      <td>25.8</td>\n      <td>24112</td>\n      <td>74.1</td>\n      <td>20.2</td>\n      <td>5.6</td>\n      <td>0.1</td>\n      <td>5.2</td>\n    </tr>\n    <tr>\n      <th>1</th>\n      <td>1003</td>\n      <td>Alabama</td>\n      <td>Baldwin County</td>\n      <td>203360</td>\n      <td>99527</td>\n      <td>103833</td>\n      <td>4.4</td>\n      <td>83.1</td>\n      <td>9.5</td>\n      <td>0.8</td>\n      <td>...</td>\n      <td>0.8</td>\n      <td>1.1</td>\n      <td>5.6</td>\n      <td>27.0</td>\n      <td>89527</td>\n      <td>80.7</td>\n      <td>12.9</td>\n      <td>6.3</td>\n      <td>0.1</td>\n      <td>5.5</td>\n    </tr>\n    <tr>\n      <th>2</th>\n      <td>1005</td>\n      <td>Alabama</td>\n      <td>Barbour County</td>\n      <td>26201</td>\n      <td>13976</td>\n      <td>12225</td>\n      <td>4.2</td>\n      <td>45.7</td>\n      <td>47.8</td>\n      <td>0.2</td>\n      <td>...</td>\n      <td>2.2</td>\n      <td>1.7</td>\n      <td>1.3</td>\n      <td>23.4</td>\n      <td>8878</td>\n      <td>74.1</td>\n      <td>19.1</td>\n      <td>6.5</td>\n      <td>0.3</td>\n      <td>12.4</td>\n    </tr>\n    <tr>\n      <th>3</th>\n      <td>1007</td>\n      <td>Alabama</td>\n      <td>Bibb County</td>\n      <td>22580</td>\n      <td>12251</td>\n      <td>10329</td>\n      <td>2.4</td>\n      <td>74.6</td>\n      <td>22.0</td>\n      <td>0.4</td>\n      <td>...</td>\n      <td>0.3</td>\n      <td>1.7</td>\n      <td>1.5</td>\n      <td>30.0</td>\n      <td>8171</td>\n      <td>76.0</td>\n      <td>17.4</td>\n      <td>6.3</td>\n      <td>0.3</td>\n      <td>8.2</td>\n    </tr>\n    <tr>\n      <th>4</th>\n      <td>1009</td>\n      <td>Alabama</td>\n      <td>Blount County</td>\n      <td>57667</td>\n      <td>28490</td>\n      <td>29177</td>\n      <td>9.0</td>\n      <td>87.4</td>\n      <td>1.5</td>\n      <td>0.3</td>\n      <td>...</td>\n      <td>0.4</td>\n      <td>0.4</td>\n      <td>2.1</td>\n      <td>35.0</td>\n      <td>21380</td>\n      <td>83.9</td>\n      <td>11.9</td>\n      <td>4.0</td>\n      <td>0.1</td>\n      <td>4.9</td>\n    </tr>\n    <tr>\n      <th>...</th>\n      <td>...</td>\n      <td>...</td>\n      <td>...</td>\n      <td>...</td>\n      <td>...</td>\n      <td>...</td>\n      <td>...</td>\n      <td>...</td>\n      <td>...</td>\n      <td>...</td>\n      <td>...</td>\n      <td>...</td>\n      <td>...</td>\n      <td>...</td>\n      <td>...</td>\n      <td>...</td>\n      <td>...</td>\n      <td>...</td>\n      <td>...</td>\n      <td>...</td>\n      <td>...</td>\n    </tr>\n    <tr>\n      <th>3215</th>\n      <td>72145</td>\n      <td>Puerto Rico</td>\n      <td>Vega Baja Municipio</td>\n      <td>54754</td>\n      <td>26269</td>\n      <td>28485</td>\n      <td>96.7</td>\n      <td>3.1</td>\n      <td>0.1</td>\n      <td>0.0</td>\n      <td>...</td>\n      <td>1.4</td>\n      <td>0.6</td>\n      <td>0.9</td>\n      <td>31.6</td>\n      <td>14234</td>\n      <td>76.2</td>\n      <td>19.3</td>\n      <td>4.3</td>\n      <td>0.2</td>\n      <td>16.8</td>\n    </tr>\n    <tr>\n      <th>3216</th>\n      <td>72147</td>\n      <td>Puerto Rico</td>\n      <td>Vieques Municipio</td>\n      <td>8931</td>\n      <td>4351</td>\n      <td>4580</td>\n      <td>95.7</td>\n      <td>4.0</td>\n      <td>0.0</td>\n      <td>0.0</td>\n      <td>...</td>\n      <td>5.0</td>\n      <td>0.0</td>\n      <td>1.7</td>\n      <td>14.9</td>\n      <td>2927</td>\n      <td>40.7</td>\n      <td>40.9</td>\n      <td>18.4</td>\n      <td>0.0</td>\n      <td>12.8</td>\n    </tr>\n    <tr>\n      <th>3217</th>\n      <td>72149</td>\n      <td>Puerto Rico</td>\n      <td>Villalba Municipio</td>\n      <td>23659</td>\n      <td>11510</td>\n      <td>12149</td>\n      <td>99.7</td>\n      <td>0.2</td>\n      <td>0.1</td>\n      <td>0.0</td>\n      <td>...</td>\n      <td>2.1</td>\n      <td>0.0</td>\n      <td>2.8</td>\n      <td>28.4</td>\n      <td>6873</td>\n      <td>59.2</td>\n      <td>30.2</td>\n      <td>10.4</td>\n      <td>0.2</td>\n      <td>24.8</td>\n    </tr>\n    <tr>\n      <th>3218</th>\n      <td>72151</td>\n      <td>Puerto Rico</td>\n      <td>Yabucoa Municipio</td>\n      <td>35025</td>\n      <td>16984</td>\n      <td>18041</td>\n      <td>99.9</td>\n      <td>0.1</td>\n      <td>0.0</td>\n      <td>0.0</td>\n      <td>...</td>\n      <td>1.4</td>\n      <td>1.8</td>\n      <td>0.1</td>\n      <td>30.5</td>\n      <td>7878</td>\n      <td>62.7</td>\n      <td>30.9</td>\n      <td>6.3</td>\n      <td>0.0</td>\n      <td>25.4</td>\n    </tr>\n    <tr>\n      <th>3219</th>\n      <td>72153</td>\n      <td>Puerto Rico</td>\n      <td>Yauco Municipio</td>\n      <td>37585</td>\n      <td>18052</td>\n      <td>19533</td>\n      <td>99.8</td>\n      <td>0.2</td>\n      <td>0.0</td>\n      <td>0.0</td>\n      <td>...</td>\n      <td>1.7</td>\n      <td>0.1</td>\n      <td>5.0</td>\n      <td>24.4</td>\n      <td>8995</td>\n      <td>66.4</td>\n      <td>28.7</td>\n      <td>5.0</td>\n      <td>0.0</td>\n      <td>24.0</td>\n    </tr>\n  </tbody>\n</table>\n<p>3220 rows × 37 columns</p>\n</div>"
     },
     "metadata": {},
     "execution_count": 5
    }
   ],
   "source": [
    "div_df"
   ]
  },
  {
   "cell_type": "code",
   "execution_count": null,
   "metadata": {},
   "outputs": [],
   "source": [
    "\n"
   ]
  }
 ]
}